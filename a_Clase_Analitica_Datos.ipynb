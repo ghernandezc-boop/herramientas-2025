{
 "cells": [
  {
   "cell_type": "markdown",
   "id": "27274d4c",
   "metadata": {},
   "source": [
    "# 🧭 Mapa paralelo: Herramientas Comerciales vs Open Source (Python)\n",
    "\n",
    "| **Categoría** | **Comercial (muy usada)** | **Open Source / Python-friendly (equivalente)** | **Uso sugerido / Comparación para laboratorio** |\n",
    "|----------------|----------------------------|--------------------------------------------------|------------------------------------------------|\n",
    "| **BI / Dashboards** | Power BI, Tableau, Qlik | Streamlit, Plotly Dash, Voila + Jupyter, Bokeh, Altair | Mismo dashboard con KPIs, filtros y gráficos interactivos |\n",
    "| **ML visual / AutoML** | Azure ML Designer, Vertex AI, SageMaker Studio, DataRobot | auto-sklearn, TPOT, H2O AutoML, PyCaret | Entrenar modelo (Iris/Titanic) y comparar métricas y facilidad de uso |\n",
    "| **Plataforma ML (código + tracking)** | Databricks ML, SageMaker, Dataiku, SAS Viya | scikit-learn + MLflow + DVC/Git | Pipeline sklearn, registrar runs y versionar datos |\n",
    "| **Orquestación / ETL-ELT (DTS)** | Azure Data Factory, AWS Glue, Informatica, Matillion | Apache Airflow, Prefect, Dagster | Flujo: extraer CSV → transformar (pandas) → cargar BD |\n",
    "| **Ingesta gestionada (Data connectors)** | Fivetran, Stitch | Airbyte, Singer (taps/targets) | Conectar una fuente pública y cargar a Postgres/DuckDB |\n",
    "| **Data prep / Wrangling** | Trifacta (Dataprep), Alteryx Designer | pandas, polars, Dask, pyjanitor | Limpieza y transformación del mismo dataset |\n",
    "| **Big Data / Distribuido** | Databricks (Spark), EMR, Synapse | Apache Spark (PySpark), Dask, Ray | Agregación distribuida: dataset grande local vs cluster |\n",
    "| **Data Warehouse / SQL analítico** | Snowflake, BigQuery, Redshift, Synapse | DuckDB, PostgreSQL (+ Timescale), ClickHouse | Ejecutar mismas consultas SQL en DWH comercial y local |\n",
    "| **Pipelines de ML (producción)** | TFX (Vertex), SageMaker Pipelines | scikit-learn Pipelines, Kubeflow Pipelines, Metaflow | Encadenar preprocesamiento, modelo y evaluación |\n",
    "| **MLOps: Serving / Despliegue** | SageMaker Endpoints, Vertex Endpoints | BentoML, Seldon Core, FastAPI + Uvicorn | Servir el mismo modelo vía REST y probar inferencias |\n",
    "| **Tracking de experimentos** | Weights & Biases, Neptune.ai | MLflow, Sacred + Omniboard | Registrar hiperparámetros y métricas en runs |\n",
    "| **Monitoreo de modelos / Data Drift** | Arize, Fiddler, WhyLabs | Evidently AI, whylogs | Simular drift y generar reporte comparativo |\n",
    "| **Data Quality / Validación** | Monte Carlo, Talend DQ, Informatica DQ | Great Expectations, pandera | Definir y verificar reglas de calidad de datos |\n",
    "| **Feature Store** | Tecton, SageMaker Feature Store | Feast | Registrar y consumir features entre entrenamiento e inferencia |\n",
    "| **Etiquetado de datos** | Labelbox, Scale AI | Label Studio | Etiquetar dataset y entrenar clasificador simple |\n",
    "| **Procesamiento NLP** | Azure Cognitive, Google NLP, AWS Comprehend | spaCy, Hugging Face Transformers | Pipeline NER o análisis de sentimiento |\n",
    "| **Visión por computador (CV)** | Azure CV, Google Vision, AWS Rekognition | OpenCV, TorchVision, ultralytics/YOLO | Detección de objetos y comparación precisión-tiempo |\n",
    "| **Series de tiempo / Forecasting** | Azure TS Insights, Amazon Forecast | Prophet, statsmodels, orbit | Pronóstico con mismo dataset y evaluación de error |\n",
    "\n",
    "---\n",
    "\n",
    "## ⚖️ Ejemplos de comparaciones directas para laboratorio\n",
    "\n",
    "| **Objetivo de la práctica** | **Comercial** | **Open Source (Python)** | **Producto esperado** |\n",
    "|------------------------------|----------------|---------------------------|------------------------|\n",
    "| Dashboard rápido | Power BI Service (web) | Streamlit + Altair | 2 KPIs, 2 gráficos, 1 filtro |\n",
    "| AutoML visual vs código | Azure ML Designer | sklearn + plotly | Modelo con métricas y tiempo de set-up |\n",
    "\n",
    "\n",
    "\n",
    "\n"
   ]
  }
 ],
 "metadata": {
  "language_info": {
   "name": "python"
  }
 },
 "nbformat": 4,
 "nbformat_minor": 5
}
