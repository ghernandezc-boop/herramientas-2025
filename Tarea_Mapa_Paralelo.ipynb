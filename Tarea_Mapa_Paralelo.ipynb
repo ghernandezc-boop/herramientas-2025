{
 "cells": [
  {
   "cell_type": "markdown",
   "id": "ac8055e5",
   "metadata": {},
   "source": [
    "# 1. Introducción y Objetivo\n",
    "\n",
    "Esta tarea es una actividad de investigación y documentación. Cada grupo debe investigar, documentar y comparar una herramienta comercial y una herramienta open source relacionadas con uno de los ítems del \"Mapa paralelo: Herramientas Comerciales vs Open Source\" visto en clase.\n",
    "\n",
    "Importante: no es necesario programar los ejemplos. Pueden utilizar ejemplos ya programados por terceros (repositorios, tutoriales, notebooks o artículos), siempre que estén correctamente referenciados (incluyendo enlace, autor/organización, fecha y breve resumen de qué parte del ejemplo se usa).\n",
    "\n",
    "El entregable debe incluir:\n",
    "- Un documento (preferible en formato notebook o PDF) con la investigación, análisis comparativo y conclusiones.\n",
    "- Una breve presentación (diapositivas o PDF) para exponer en la próxima clase.\n",
    "\n",
    "Criterios de evaluación (mínimos):\n",
    "- Selección y justificación de herramientas (15%).\n",
    "- Calidad de la documentación y análisis comparativo (40%).\n",
    "- Uso y referencia correcta de ejemplos de terceros (20%).\n",
    "- Conclusiones y reflexión crítica (15%).\n",
    "- Presentación y claridad de la entrega (10%).\n",
    "\n",
    "Plazo: entregar antes del inicio de la próxima clase. Tiempo estimado: 3–5 horas de trabajo por grupo.\n",
    "\n",
    "Formato recomendado: un notebook Jupyter o un PDF con secciones claramente marcadas y las referencias bibliográficas.\n",
    "\n",
    "---"
   ]
  },
  {
   "cell_type": "markdown",
   "id": "aa455514",
   "metadata": {},
   "source": [
    "## Resumen ejecutivo (opcional, 150-200 palabras)\n",
    "\n",
    "Incluyan aquí un resumen muy breve del trabajo: objetivo, herramientas comparadas, principales hallazgos y recomendación principal. Este resumen ayuda a los revisores y al público que sólo desea una visión rápida.\n",
    "\n",
    "Ejemplo:\n",
    "\n",
    "> En este trabajo comparamos Power BI (comercial) y Streamlit (open source) en el contexto de creación de dashboards para análisis exploratorio. Se revisaron ejemplos públicos y se evaluaron criterios como facilidad de prototipado, coste, integración y escalabilidad. Concluimos que Streamlit es más ágil para prototipado rápido y menor coste para equipos pequeños, mientras que Power BI ofrece integraciones empresariales y gobernanza que lo hacen preferible en entornos corporativos.\n",
    "\n",
    "---"
   ]
  },
  {
   "cell_type": "markdown",
   "id": "fcf86111",
   "metadata": {},
   "source": [
    "# 2. Selección de Herramientas\n",
    "\n",
    "Elijan un ítem del mapa paralelo (por ejemplo: BI/Dashboards, AutoML, Orquestación, etc.). Para ese ítem, indiquen la herramienta comercial y la herramienta open source que investigarán. Justifiquen la elección en términos de casos de uso, popularidad, coste, y facilidad de integración.\n",
    "\n",
    "Si van a usar ejemplos de terceros, indiquen:\n",
    "- Fuente (enlace, autor/organización, fecha).\n",
    "- Por qué es relevante ese ejemplo para su comparación.\n",
    "- Qué parte del ejemplo usan tal cual y qué parte adaptaron o solo describieron.\n",
    "\n",
    "Ejemplo de respuesta breve:\n",
    "- Ítem: BI / Dashboards\n",
    "- Comercial: Power BI — motivo: ampliamente usado en empresas, integración con Microsoft 365.\n",
    "- Open Source: Streamlit — motivo: rápido para prototipar dashboards en Python.\n",
    "\n",
    "---"
   ]
  },
  {
   "cell_type": "markdown",
   "id": "b1b5f961",
   "metadata": {},
   "source": [
    "### Plantilla: Selección y justificación (copiar y completar)\n",
    "\n",
    "- Ítem:\n",
    "- Comercial (nombre + versión):\n",
    "- Open Source (nombre + versión):\n",
    "- Justificación breve (casos de uso, coste, integración — 2–3 frases):\n",
    "- Ejemplo(s) de terceros usados (enlace — autor/organización — fecha — qué parte se usa):\n",
    "\n",
    "---"
   ]
  },
  {
   "cell_type": "markdown",
   "id": "7e0a70d9",
   "metadata": {},
   "source": [
    "# 3. Configuración del Entorno (opcional)\n",
    "\n",
    "Como esta es una tarea de investigación, la configuración del entorno es opcional y solo necesaria si deciden ejecutar algún ejemplo localmente. En la mayoría de los casos no es necesario incluir comandos de creación/activación de entornos en la entrega; basta con documentar el entorno requerido para quienes quieran reproducirlo.\n",
    "\n",
    "Incluyan, si aplica:\n",
    "- Entorno recomendado (ej.: Python 3.13+).\n",
    "- Paquetes principales y versiones (ej.: pandas, scikit-learn, streamlit) en una lista o `requirements.txt` opcional.\n",
    "- Una nota que indique si el ejemplo proviene de terceros y si se necesita acceso a servicios (API keys, cuentas comerciales) y cómo reproducirlo basándose en la documentación oficial.\n",
    "\n",
    "Si deciden ejecutar un ejemplo localmente, pueden añadir los comandos de creación/activación del entorno en una sección separada o en un `README.md`, pero no es obligatorio para la entrega de investigación.\n",
    "\n",
    "---"
   ]
  },
  {
   "cell_type": "markdown",
   "id": "7d0faf88",
   "metadata": {},
   "source": [
    "# 4. Ejemplo de Uso: Herramienta Comercial (documentación)\n",
    "\n",
    "En esta sección deben documentar un ejemplo de uso de la herramienta comercial seleccionada. No es obligatorio que el ejemplo sea implementado por ustedes; pueden utilizar ejemplos de terceros, pero deben referenciarlos y describir claramente:\n",
    "- Fuente del ejemplo (enlace + autor/organización).\n",
    "- Qué hace el ejemplo y qué resultados produce (capturas, tablas o descripción).\n",
    "- Si el ejemplo es ejecutable por terceros, incluyan los pasos o los enlaces a instrucciones de reproducción. Si no es ejecutable, expliquen por qué y detallen lo que sería necesario para reproducirlo.\n",
    "\n",
    "Lo esperado:\n",
    "- Referencia clara al ejemplo (link y cita breve).\n",
    "- Breve resumen del flujo del ejemplo.\n",
    "- Observaciones sobre facilidad de uso, limitaciones y coste/creditos si aplica.\n",
    "\n",
    "---"
   ]
  },
  {
   "cell_type": "markdown",
   "id": "7a91c530",
   "metadata": {},
   "source": [
    "# 5. Ejemplo de Uso: Herramienta Open Source (documentación)\n",
    "\n",
    "Documenten un ejemplo de uso de la herramienta open source seleccionada. Pueden extraer el ejemplo de repositorios, blogs o notebooks públicos, siempre referenciando correctamente. En su documentación deben incluir:\n",
    "- Fuente del ejemplo (enlace + autor/organización).\n",
    "- Qué hace el ejemplo y qué outputs genera.\n",
    "- Instrucciones de reproducción o notas sobre dependencias si aplican.\n",
    "\n",
    "Lo esperado:\n",
    "- Referencia al recurso usado.\n",
    "- Resumen del proceso y outputs relevantes.\n",
    "- Observaciones sobre comunidad, mantenimiento y capacidad de extensibilidad.\n",
    "\n",
    "---"
   ]
  },
  {
   "cell_type": "markdown",
   "id": "bb66aca7",
   "metadata": {},
   "source": [
    "# 6. Comparación de la Herramientas\n",
    "\n",
    "Comparen de forma estructurada los resultados y la experiencia obtenida con ambas herramientas. Dado que pueden usar ejemplos de terceros, enfoque la comparación en criterios técnicos y prácticos:\n",
    "- Métrica/Output (si aplica)\n",
    "- Resultado descrito (Comercial)\n",
    "- Resultado descrito (Open Source)\n",
    "- Facilidad de acceso y reproducción\n",
    "- Facilidad de entendimiento y documentación del ejemplo\n",
    "- Coste/Recursos requeridos\n",
    "\n",
    "Incluyan una tabla resumen y referencias bibliográficas de las fuentes consultadas.\n",
    "\n",
    "Preguntas guía:\n",
    "- ¿Cuál solución es más adecuada para prototipado rápido? ¿Y para producción?\n",
    "- ¿Qué implicancias de coste o gobernanza existen?\n",
    "- ¿Qué limitaciones observadas en la documentación o en los ejemplos de terceros?\n",
    "\n",
    "---"
   ]
  },
  {
   "cell_type": "markdown",
   "id": "08f6c500",
   "metadata": {},
   "source": [
    "### Tabla de comparación sugerida (ejemplo)\n",
    "\n",
    "A continuación una tabla de ejemplo que pueden copiar y completar con los resultados de su investigación.\n",
    "\n",
    "| Criterio | Comercial | Open Source | Observaciones | Recomendación |\n",
    "|---|---|---|---|---|\n",
    "| Facilidad de prototipado | Rápido (GUI) | Muy rápido (código) | Comercial requiere licencia; OSS depende de bibliotecas | OSS para prototipado |\n",
    "| Escalabilidad | Alta (servicios gestionados) | Depende del despliegue | Requiere configuración extra en OSS | Comercial en producción |\n",
    "| Coste | Licencia / créditos | Gratuito (licencia OSS) | Costes de infra/soporte en OSS | Depende del presupuesto |\n",
    "| Integraciones | Amplias (ERP, BI) | Buenas (APIs) | Integraciones nativas suelen estar en comerciales | Revisar conectores |\n",
    "\n",
    "Pueden construir esta tabla con pandas si desean automatizar la evaluación:\n",
    "\n",
    "```python\n",
    "import pandas as pd\n",
    "rows = [\n",
    "    (\"Facilidad de prototipado\",\"Rápido (GUI)\",\"Muy rápido (código)\",\"Comercial requiere licencia; OSS depende de bibliotecas\",\"OSS para prototipado\"),\n",
    "]\n",
    "cols = [\"Criterio\",\"Comercial\",\"Open Source\",\"Observaciones\",\"Recomendación\"]\n",
    "df = pd.DataFrame(rows, columns=cols)\n",
    "df\n",
    "```\n",
    "\n",
    "---"
   ]
  },
  {
   "cell_type": "markdown",
   "id": "9a919fb3",
   "metadata": {},
   "source": [
    "# 7. Conclusiones y Reflexión\n",
    "\n",
    "Presenten sus conclusiones finales, destacando:\n",
    "- Ventajas y desventajas principales de cada herramienta.\n",
    "- Contextos donde preferirían usar la herramienta comercial vs la open source.\n",
    "- Recomendaciones para una empresa pequeña vs una empresa grande.\n",
    "\n",
    "Además, incluyan una breve lista de aprendizajes y posibles mejoras si tuvieran más tiempo.\n",
    "\n",
    "---\n",
    "\n",
    "## Checklist de entrega (marcar antes de subir):\n",
    "- [ ] Documento (notebook o PDF) con la investigación y análisis comparativo.\n",
    "- [ ] Referencias completas a los ejemplos de terceros usados (link, autor/organización, fecha, breve descripción de uso).\n",
    "- [ ] Evidencia visual o descriptiva de los ejemplos (capturas, tablas, o explicación detallada).\n",
    "- [ ] Archivo ZIP con recursos adicionales (opcional: datos, scripts) o enlace al repositorio fuente.\n",
    "- [ ] Presentación (diapositivas) o PDF para exponer en clase.\n",
    "- [ ] Archivo README breve con instrucciones sobre cómo navegar la entrega (si aplica).\n",
    "- [ ] Archivo de referencias (opcional: `references.bib` o `REFERENCES.md`).\n",
    "- [ ] Declaración de licencias / permisos para recursos externos (licencia OSS, permisos de uso de capturas, etc.).\n",
    "- [ ] Autor(es) y contribuciones (lista de integrantes y roles — quién hizo qué).\n",
    "\n",
    "Notas:\n",
    "- Si usan ejemplos de terceros, asegúrense de cumplir las licencias y citar correctamente.\n",
    "- Incluir una sección \"Resumen ejecutivo\" facilita la evaluación rápida del trabajo.\n"
   ]
  }
 ],
 "metadata": {
  "language_info": {
   "name": "python"
  }
 },
 "nbformat": 4,
 "nbformat_minor": 5
}
