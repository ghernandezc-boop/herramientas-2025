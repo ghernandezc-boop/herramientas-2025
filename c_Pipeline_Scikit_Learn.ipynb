{
 "cells": [
  {
   "cell_type": "markdown",
   "id": "d30bd497",
   "metadata": {},
   "source": [
    "# Cargar Librerías Necesarias\n",
    "Importar las librerías requeridas como pandas, numpy, scikit-learn y cualquier otra librería necesaria."
   ]
  },
  {
   "cell_type": "code",
   "execution_count": 1,
   "id": "d81386d6",
   "metadata": {},
   "outputs": [],
   "source": [
    "import pandas as pd\n",
    "import numpy as np\n",
    "from sklearn.model_selection import train_test_split\n",
    "from sklearn.preprocessing import StandardScaler, OneHotEncoder\n",
    "from sklearn.compose import ColumnTransformer\n",
    "from sklearn.pipeline import Pipeline\n",
    "from sklearn.ensemble import RandomForestClassifier\n",
    "from sklearn.neural_network import MLPClassifier\n",
    "from sklearn.metrics import accuracy_score, classification_report"
   ]
  },
  {
   "cell_type": "markdown",
   "id": "c434d0cb",
   "metadata": {},
   "source": [
    "# Descargar y Cargar Datos desde un CSV\n",
    "Utilizar pandas para descargar un archivo CSV desde una URL y cargarlo en un DataFrame."
   ]
  },
  {
   "cell_type": "code",
   "execution_count": 2,
   "id": "1425ea4a",
   "metadata": {},
   "outputs": [
    {
     "name": "stdout",
     "output_type": "stream",
     "text": [
      "Datos cargados:\n",
      "   sepal_length  sepal_width  petal_length  petal_width species\n",
      "0           5.1          3.5           1.4          0.2  setosa\n",
      "1           4.9          3.0           1.4          0.2  setosa\n",
      "2           4.7          3.2           1.3          0.2  setosa\n",
      "3           4.6          3.1           1.5          0.2  setosa\n",
      "4           5.0          3.6           1.4          0.2  setosa\n"
     ]
    }
   ],
   "source": [
    "# Descargar datos desde una URL y cargarlos en un DataFrame\n",
    "data_url = \"https://raw.githubusercontent.com/mwaskom/seaborn-data/master/iris.csv\"\n",
    "data = pd.read_csv(data_url)\n",
    "print(\"Datos cargados:\")\n",
    "print(data.head())"
   ]
  },
  {
   "cell_type": "markdown",
   "id": "3ea4281c",
   "metadata": {},
   "source": [
    "# Preprocesamiento de Datos\n",
    "Realizar tareas de limpieza de datos, manejo de valores nulos, codificación de variables categóricas y escalado de características."
   ]
  },
  {
   "cell_type": "code",
   "execution_count": 3,
   "id": "d4c9ccf0",
   "metadata": {},
   "outputs": [],
   "source": [
    "# Separar características y etiquetas\n",
    "X = data.drop(columns=['species'])\n",
    "y = data['species']\n",
    "\n",
    "# Codificar etiquetas\n",
    "encoder = OneHotEncoder()\n",
    "y_encoded = encoder.fit_transform(y.values.reshape(-1, 1)).toarray()\n",
    "\n",
    "# Escalar características\n",
    "scaler = StandardScaler()\n",
    "X_scaled = scaler.fit_transform(X)"
   ]
  },
  {
   "cell_type": "markdown",
   "id": "5575e7a7",
   "metadata": {},
   "source": [
    "# División de Datos en Entrenamiento y Prueba\n",
    "Dividir los datos en conjuntos de entrenamiento y prueba utilizando train_test_split de scikit-learn."
   ]
  },
  {
   "cell_type": "code",
   "execution_count": 4,
   "id": "d2bb6421",
   "metadata": {},
   "outputs": [
    {
     "name": "stdout",
     "output_type": "stream",
     "text": [
      "Tamaño del conjunto de entrenamiento: (112, 4)\n",
      "Tamaño del conjunto de prueba: (38, 4)\n"
     ]
    }
   ],
   "source": [
    "# Dividir los datos en conjuntos de entrenamiento y prueba\n",
    "X_train, X_test, y_train, y_test = train_test_split(X_scaled, y_encoded, test_size=0.25, random_state=42)\n",
    "print(f\"Tamaño del conjunto de entrenamiento: {X_train.shape}\")\n",
    "print(f\"Tamaño del conjunto de prueba: {X_test.shape}\")"
   ]
  },
  {
   "cell_type": "markdown",
   "id": "632b45b0",
   "metadata": {},
   "source": [
    "# Definir y Configurar el Pipeline\n",
    "Crear un pipeline de scikit-learn que incluya pasos de preprocesamiento y el modelo (red neuronal o random forest)."
   ]
  },
  {
   "cell_type": "code",
   "execution_count": 5,
   "id": "f354cbb1",
   "metadata": {},
   "outputs": [],
   "source": [
    "# Configurar el pipeline con RandomForestClassifier\n",
    "pipeline_rf = Pipeline([\n",
    "    ('scaler', StandardScaler()),\n",
    "    ('classifier', RandomForestClassifier(random_state=42))\n",
    "])\n",
    "\n",
    "# Configurar el pipeline con MLPClassifier\n",
    "pipeline_mlp = Pipeline([\n",
    "    ('scaler', StandardScaler()),\n",
    "    ('classifier', MLPClassifier(random_state=42, max_iter=500))\n",
    "])"
   ]
  },
  {
   "cell_type": "markdown",
   "id": "97f791b0",
   "metadata": {},
   "source": [
    "# Entrenar el Modelo\n",
    "Entrenar el modelo utilizando el pipeline con los datos de entrenamiento."
   ]
  },
  {
   "cell_type": "code",
   "execution_count": 9,
   "id": "b8600b50",
   "metadata": {},
   "outputs": [
    {
     "name": "stdout",
     "output_type": "stream",
     "text": [
      "Iteration 1, loss = 2.12641885\n",
      "Iteration 2, loss = 2.10050551\n",
      "Iteration 3, loss = 2.07494701\n",
      "Iteration 4, loss = 2.04971960\n",
      "Iteration 5, loss = 2.02488425\n",
      "Iteration 6, loss = 2.00040726\n",
      "Iteration 7, loss = 1.97631048\n",
      "Iteration 8, loss = 1.95260356\n",
      "Iteration 9, loss = 1.92926051\n",
      "Iteration 10, loss = 1.90629619\n",
      "Iteration 11, loss = 1.88371511\n",
      "Iteration 12, loss = 1.86151084\n",
      "Iteration 13, loss = 1.83966634\n",
      "Iteration 14, loss = 1.81816375\n",
      "Iteration 15, loss = 1.79699220\n",
      "Iteration 16, loss = 1.77614879\n",
      "Iteration 17, loss = 1.75565990\n",
      "Iteration 18, loss = 1.73551116\n",
      "Iteration 19, loss = 1.71570227\n",
      "Iteration 20, loss = 1.69624614\n",
      "Iteration 21, loss = 1.67711785\n",
      "Iteration 22, loss = 1.65831241\n",
      "Iteration 23, loss = 1.63984415\n",
      "Iteration 24, loss = 1.62168047\n",
      "Iteration 25, loss = 1.60383155\n",
      "Iteration 26, loss = 1.58629099\n",
      "Iteration 27, loss = 1.56905926\n",
      "Iteration 28, loss = 1.55211703\n",
      "Iteration 29, loss = 1.53547648\n",
      "Iteration 30, loss = 1.51913977\n",
      "Iteration 31, loss = 1.50307981\n",
      "Iteration 32, loss = 1.48729963\n",
      "Iteration 33, loss = 1.47179571\n",
      "Iteration 34, loss = 1.45656688\n",
      "Iteration 35, loss = 1.44160245\n",
      "Iteration 36, loss = 1.42689621\n",
      "Iteration 37, loss = 1.41244701\n",
      "Iteration 38, loss = 1.39826823\n",
      "Iteration 39, loss = 1.38435848\n",
      "Iteration 40, loss = 1.37070885\n",
      "Iteration 41, loss = 1.35729920\n",
      "Iteration 42, loss = 1.34412866\n",
      "Iteration 43, loss = 1.33119231\n",
      "Iteration 44, loss = 1.31848844\n",
      "Iteration 45, loss = 1.30601952\n",
      "Iteration 46, loss = 1.29377567\n",
      "Iteration 47, loss = 1.28175576\n",
      "Iteration 48, loss = 1.26994197\n",
      "Iteration 49, loss = 1.25833565\n",
      "Iteration 50, loss = 1.24693251\n",
      "Iteration 51, loss = 1.23572741\n",
      "Iteration 52, loss = 1.22472043\n",
      "Iteration 53, loss = 1.21390282\n",
      "Iteration 54, loss = 1.20328503\n",
      "Iteration 55, loss = 1.19284984\n",
      "Iteration 56, loss = 1.18259441\n",
      "Iteration 57, loss = 1.17251203\n",
      "Iteration 58, loss = 1.16260099\n",
      "Iteration 59, loss = 1.15286408\n",
      "Iteration 60, loss = 1.14330518\n",
      "Iteration 61, loss = 1.13391100\n",
      "Iteration 62, loss = 1.12468187\n",
      "Iteration 63, loss = 1.11561412\n",
      "Iteration 64, loss = 1.10670677\n",
      "Iteration 65, loss = 1.09795847\n",
      "Iteration 66, loss = 1.08937483\n",
      "Iteration 67, loss = 1.08094238\n",
      "Iteration 68, loss = 1.07265879\n",
      "Iteration 69, loss = 1.06452128\n",
      "Iteration 70, loss = 1.05653365\n",
      "Iteration 71, loss = 1.04869583\n",
      "Iteration 72, loss = 1.04099443\n",
      "Iteration 73, loss = 1.03343316\n",
      "Iteration 74, loss = 1.02600625\n",
      "Iteration 75, loss = 1.01871122\n",
      "Iteration 76, loss = 1.01154001\n",
      "Iteration 77, loss = 1.00448894\n",
      "Iteration 78, loss = 0.99756149\n",
      "Iteration 79, loss = 0.99075970\n",
      "Iteration 80, loss = 0.98408344\n",
      "Iteration 81, loss = 0.97752988\n",
      "Iteration 82, loss = 0.97109853\n",
      "Iteration 83, loss = 0.96477490\n",
      "Iteration 84, loss = 0.95855890\n",
      "Iteration 85, loss = 0.95244932\n",
      "Iteration 86, loss = 0.94645366\n",
      "Iteration 87, loss = 0.94055964\n",
      "Iteration 88, loss = 0.93475889\n",
      "Iteration 89, loss = 0.92906369\n",
      "Iteration 90, loss = 0.92345986\n",
      "Iteration 91, loss = 0.91794542\n",
      "Iteration 92, loss = 0.91251947\n",
      "Iteration 93, loss = 0.90717208\n",
      "Iteration 94, loss = 0.90190305\n",
      "Iteration 95, loss = 0.89671710\n",
      "Iteration 96, loss = 0.89161648\n",
      "Iteration 97, loss = 0.88659781\n",
      "Iteration 98, loss = 0.88165349\n",
      "Iteration 99, loss = 0.87679221\n",
      "Iteration 100, loss = 0.87201010\n",
      "Iteration 101, loss = 0.86729227\n",
      "Iteration 102, loss = 0.86263702\n",
      "Iteration 103, loss = 0.85804747\n",
      "Iteration 104, loss = 0.85352586\n",
      "Iteration 105, loss = 0.84906745\n",
      "Iteration 106, loss = 0.84467454\n",
      "Iteration 107, loss = 0.84034142\n",
      "Iteration 108, loss = 0.83606584\n",
      "Iteration 109, loss = 0.83184728\n",
      "Iteration 110, loss = 0.82768080\n",
      "Iteration 111, loss = 0.82356774\n",
      "Iteration 112, loss = 0.81951016\n",
      "Iteration 113, loss = 0.81550636\n",
      "Iteration 114, loss = 0.81154868\n",
      "Iteration 115, loss = 0.80763039\n",
      "Iteration 116, loss = 0.80375349\n",
      "Iteration 117, loss = 0.79991345\n",
      "Iteration 118, loss = 0.79611705\n",
      "Iteration 119, loss = 0.79236619\n",
      "Iteration 120, loss = 0.78865563\n",
      "Iteration 121, loss = 0.78499267\n",
      "Iteration 122, loss = 0.78136765\n",
      "Iteration 123, loss = 0.77777953\n",
      "Iteration 124, loss = 0.77422916\n",
      "Iteration 125, loss = 0.77071488\n",
      "Iteration 126, loss = 0.76724180\n",
      "Iteration 127, loss = 0.76380531\n",
      "Iteration 128, loss = 0.76040327\n",
      "Iteration 129, loss = 0.75703453\n",
      "Iteration 130, loss = 0.75369332\n",
      "Iteration 131, loss = 0.75038464\n",
      "Iteration 132, loss = 0.74710667\n",
      "Iteration 133, loss = 0.74385823\n",
      "Iteration 134, loss = 0.74063506\n",
      "Iteration 135, loss = 0.73743671\n",
      "Iteration 136, loss = 0.73426091\n",
      "Iteration 137, loss = 0.73110883\n",
      "Iteration 138, loss = 0.72798469\n",
      "Iteration 139, loss = 0.72488070\n",
      "Iteration 140, loss = 0.72179948\n",
      "Iteration 141, loss = 0.71874209\n",
      "Iteration 142, loss = 0.71570511\n",
      "Iteration 143, loss = 0.71269292\n",
      "Iteration 144, loss = 0.70970332\n",
      "Iteration 145, loss = 0.70672232\n",
      "Iteration 146, loss = 0.70374690\n",
      "Iteration 147, loss = 0.70079794\n",
      "Iteration 148, loss = 0.69787395\n",
      "Iteration 149, loss = 0.69496600\n",
      "Iteration 150, loss = 0.69207705\n",
      "Iteration 151, loss = 0.68920237\n",
      "Iteration 152, loss = 0.68634073\n",
      "Iteration 153, loss = 0.68349955\n",
      "Iteration 154, loss = 0.68066538\n",
      "Iteration 155, loss = 0.67784338\n",
      "Iteration 156, loss = 0.67503648\n",
      "Iteration 157, loss = 0.67223806\n",
      "Iteration 158, loss = 0.66944941\n",
      "Iteration 159, loss = 0.66666619\n",
      "Iteration 160, loss = 0.66389390\n",
      "Iteration 161, loss = 0.66113533\n",
      "Iteration 162, loss = 0.65838932\n",
      "Iteration 163, loss = 0.65565776\n",
      "Iteration 164, loss = 0.65293860\n",
      "Iteration 165, loss = 0.65023208\n",
      "Iteration 166, loss = 0.64753215\n",
      "Iteration 167, loss = 0.64484119\n",
      "Iteration 168, loss = 0.64216175\n",
      "Iteration 169, loss = 0.63949154\n",
      "Iteration 170, loss = 0.63682949\n",
      "Iteration 171, loss = 0.63417482\n",
      "Iteration 172, loss = 0.63152819\n",
      "Iteration 173, loss = 0.62889085\n",
      "Iteration 174, loss = 0.62625328\n",
      "Iteration 175, loss = 0.62362079\n",
      "Iteration 176, loss = 0.62099554\n",
      "Iteration 177, loss = 0.61837859\n",
      "Iteration 178, loss = 0.61577805\n",
      "Iteration 179, loss = 0.61318130\n",
      "Iteration 180, loss = 0.61059203\n",
      "Iteration 181, loss = 0.60800874\n",
      "Iteration 182, loss = 0.60543456\n",
      "Iteration 183, loss = 0.60285848\n",
      "Iteration 184, loss = 0.60027701\n",
      "Iteration 185, loss = 0.59770035\n",
      "Iteration 186, loss = 0.59512856\n",
      "Iteration 187, loss = 0.59256259\n",
      "Iteration 188, loss = 0.59000355\n",
      "Iteration 189, loss = 0.58745204\n",
      "Iteration 190, loss = 0.58490829\n",
      "Iteration 191, loss = 0.58236917\n",
      "Iteration 192, loss = 0.57983707\n",
      "Iteration 193, loss = 0.57731386\n",
      "Iteration 194, loss = 0.57479844\n",
      "Iteration 195, loss = 0.57229086\n",
      "Iteration 196, loss = 0.56979675\n",
      "Iteration 197, loss = 0.56730991\n",
      "Iteration 198, loss = 0.56483068\n",
      "Iteration 199, loss = 0.56235788\n",
      "Iteration 200, loss = 0.55989276\n",
      "Iteration 201, loss = 0.55743680\n",
      "Iteration 202, loss = 0.55498824\n",
      "Iteration 203, loss = 0.55254536\n",
      "Iteration 204, loss = 0.55010835\n",
      "Iteration 205, loss = 0.54767749\n",
      "Iteration 206, loss = 0.54525400\n",
      "Iteration 207, loss = 0.54283652\n",
      "Iteration 208, loss = 0.54042784\n",
      "Iteration 209, loss = 0.53802443\n",
      "Iteration 210, loss = 0.53563464\n",
      "Iteration 211, loss = 0.53325347\n",
      "Iteration 212, loss = 0.53087827\n",
      "Iteration 213, loss = 0.52851165\n",
      "Iteration 214, loss = 0.52615580\n",
      "Iteration 215, loss = 0.52380377\n",
      "Iteration 216, loss = 0.52145835\n",
      "Iteration 217, loss = 0.51912275\n",
      "Iteration 218, loss = 0.51679841\n",
      "Iteration 219, loss = 0.51448398\n",
      "Iteration 220, loss = 0.51217580\n",
      "Iteration 221, loss = 0.50986808\n",
      "Iteration 222, loss = 0.50756834\n",
      "Iteration 223, loss = 0.50527545\n",
      "Iteration 224, loss = 0.50298919\n",
      "Iteration 225, loss = 0.50071057\n",
      "Iteration 226, loss = 0.49843796\n",
      "Iteration 227, loss = 0.49617367\n",
      "Iteration 228, loss = 0.49391663\n",
      "Iteration 229, loss = 0.49166655\n",
      "Iteration 230, loss = 0.48942055\n",
      "Iteration 231, loss = 0.48717776\n",
      "Iteration 232, loss = 0.48494110\n",
      "Iteration 233, loss = 0.48271216\n",
      "Iteration 234, loss = 0.48048983\n",
      "Iteration 235, loss = 0.47827582\n",
      "Iteration 236, loss = 0.47606669\n",
      "Iteration 237, loss = 0.47386355\n",
      "Iteration 238, loss = 0.47167006\n",
      "Iteration 239, loss = 0.46948368\n",
      "Iteration 240, loss = 0.46730395\n",
      "Iteration 241, loss = 0.46513152\n",
      "Iteration 242, loss = 0.46296613\n",
      "Iteration 243, loss = 0.46080831\n",
      "Iteration 244, loss = 0.45865898\n",
      "Iteration 245, loss = 0.45652152\n",
      "Iteration 246, loss = 0.45439199\n",
      "Iteration 247, loss = 0.45226648\n",
      "Iteration 248, loss = 0.45014914\n",
      "Iteration 249, loss = 0.44803814\n",
      "Iteration 250, loss = 0.44593286\n",
      "Iteration 251, loss = 0.44383641\n",
      "Iteration 252, loss = 0.44174989\n",
      "Iteration 253, loss = 0.43967111\n",
      "Iteration 254, loss = 0.43760008\n",
      "Iteration 255, loss = 0.43553836\n",
      "Iteration 256, loss = 0.43348499\n",
      "Iteration 257, loss = 0.43144171\n",
      "Iteration 258, loss = 0.42941027\n",
      "Iteration 259, loss = 0.42738669\n",
      "Iteration 260, loss = 0.42537299\n",
      "Iteration 261, loss = 0.42336871\n",
      "Iteration 262, loss = 0.42137579\n",
      "Iteration 263, loss = 0.41939555\n",
      "Iteration 264, loss = 0.41742407\n",
      "Iteration 265, loss = 0.41546071\n",
      "Iteration 266, loss = 0.41350597\n",
      "Iteration 267, loss = 0.41156065\n",
      "Iteration 268, loss = 0.40962505\n",
      "Iteration 269, loss = 0.40770061\n",
      "Iteration 270, loss = 0.40578651\n",
      "Iteration 271, loss = 0.40388187\n",
      "Iteration 272, loss = 0.40198633\n",
      "Iteration 273, loss = 0.40009980\n",
      "Iteration 274, loss = 0.39822332\n",
      "Iteration 275, loss = 0.39635794\n",
      "Iteration 276, loss = 0.39450264\n",
      "Iteration 277, loss = 0.39265652\n",
      "Iteration 278, loss = 0.39081946\n",
      "Iteration 279, loss = 0.38899185\n",
      "Iteration 280, loss = 0.38717453\n",
      "Iteration 281, loss = 0.38536703\n",
      "Iteration 282, loss = 0.38356886\n",
      "Iteration 283, loss = 0.38178235\n",
      "Iteration 284, loss = 0.38000620\n",
      "Iteration 285, loss = 0.37823481\n",
      "Iteration 286, loss = 0.37647366\n",
      "Iteration 287, loss = 0.37472226\n",
      "Iteration 288, loss = 0.37298157\n",
      "Iteration 289, loss = 0.37125097\n",
      "Iteration 290, loss = 0.36953091\n",
      "Iteration 291, loss = 0.36782091\n",
      "Iteration 292, loss = 0.36612117\n",
      "Iteration 293, loss = 0.36443111\n",
      "Iteration 294, loss = 0.36275077\n",
      "Iteration 295, loss = 0.36108181\n",
      "Iteration 296, loss = 0.35942260\n",
      "Iteration 297, loss = 0.35777330\n",
      "Iteration 298, loss = 0.35613488\n",
      "Iteration 299, loss = 0.35450725\n",
      "Iteration 300, loss = 0.35289031\n",
      "Iteration 301, loss = 0.35128477\n",
      "Iteration 302, loss = 0.34968950\n",
      "Iteration 303, loss = 0.34810370\n",
      "Iteration 304, loss = 0.34652767\n",
      "Iteration 305, loss = 0.34496129\n",
      "Iteration 306, loss = 0.34340593\n",
      "Iteration 307, loss = 0.34186101\n",
      "Iteration 308, loss = 0.34032723\n",
      "Iteration 309, loss = 0.33880364\n",
      "Iteration 310, loss = 0.33728994\n",
      "Iteration 311, loss = 0.33578821\n",
      "Iteration 312, loss = 0.33429623\n",
      "Iteration 313, loss = 0.33281474\n",
      "Iteration 314, loss = 0.33134261\n",
      "Iteration 315, loss = 0.32987981\n",
      "Iteration 316, loss = 0.32842711\n",
      "Iteration 317, loss = 0.32698440\n",
      "Iteration 318, loss = 0.32555189\n",
      "Iteration 319, loss = 0.32412941\n",
      "Iteration 320, loss = 0.32271927\n",
      "Iteration 321, loss = 0.32131964\n",
      "Iteration 322, loss = 0.31993046\n",
      "Iteration 323, loss = 0.31855090\n",
      "Iteration 324, loss = 0.31718129\n",
      "Iteration 325, loss = 0.31582173\n",
      "Iteration 326, loss = 0.31447202\n",
      "Iteration 327, loss = 0.31313196\n",
      "Iteration 328, loss = 0.31180108\n",
      "Iteration 329, loss = 0.31047876\n",
      "Iteration 330, loss = 0.30916536\n",
      "Iteration 331, loss = 0.30786086\n",
      "Iteration 332, loss = 0.30656548\n",
      "Iteration 333, loss = 0.30527823\n",
      "Iteration 334, loss = 0.30400067\n",
      "Iteration 335, loss = 0.30273229\n",
      "Iteration 336, loss = 0.30147263\n",
      "Iteration 337, loss = 0.30022127\n",
      "Iteration 338, loss = 0.29897903\n",
      "Iteration 339, loss = 0.29774540\n",
      "Iteration 340, loss = 0.29652036\n",
      "Iteration 341, loss = 0.29530376\n",
      "Iteration 342, loss = 0.29409573\n",
      "Iteration 343, loss = 0.29289621\n",
      "Iteration 344, loss = 0.29170512\n",
      "Iteration 345, loss = 0.29052188\n",
      "Iteration 346, loss = 0.28934467\n",
      "Iteration 347, loss = 0.28817576\n",
      "Iteration 348, loss = 0.28701300\n",
      "Iteration 349, loss = 0.28585537\n",
      "Iteration 350, loss = 0.28470484\n",
      "Iteration 351, loss = 0.28356173\n",
      "Iteration 352, loss = 0.28242796\n",
      "Iteration 353, loss = 0.28130205\n",
      "Iteration 354, loss = 0.28018346\n",
      "Iteration 355, loss = 0.27907235\n",
      "Iteration 356, loss = 0.27796853\n",
      "Iteration 357, loss = 0.27687219\n",
      "Iteration 358, loss = 0.27578350\n",
      "Iteration 359, loss = 0.27470358\n",
      "Iteration 360, loss = 0.27363106\n",
      "Iteration 361, loss = 0.27256600\n",
      "Iteration 362, loss = 0.27150831\n",
      "Iteration 363, loss = 0.27045831\n",
      "Iteration 364, loss = 0.26941713\n",
      "Iteration 365, loss = 0.26838360\n",
      "Iteration 366, loss = 0.26735740\n",
      "Iteration 367, loss = 0.26633828\n",
      "Iteration 368, loss = 0.26532643\n",
      "Iteration 369, loss = 0.26432244\n",
      "Iteration 370, loss = 0.26332562\n",
      "Iteration 371, loss = 0.26233672\n",
      "Iteration 372, loss = 0.26135541\n",
      "Iteration 373, loss = 0.26038104\n",
      "Iteration 374, loss = 0.25941397\n",
      "Iteration 375, loss = 0.25845426\n",
      "Iteration 376, loss = 0.25750245\n",
      "Iteration 377, loss = 0.25655753\n",
      "Iteration 378, loss = 0.25561935\n",
      "Iteration 379, loss = 0.25468805\n",
      "Iteration 380, loss = 0.25376344\n",
      "Iteration 381, loss = 0.25284541\n",
      "Iteration 382, loss = 0.25193450\n",
      "Iteration 383, loss = 0.25103034\n",
      "Iteration 384, loss = 0.25013272\n",
      "Iteration 385, loss = 0.24924225\n",
      "Iteration 386, loss = 0.24835877\n",
      "Iteration 387, loss = 0.24748240\n",
      "Iteration 388, loss = 0.24661236\n",
      "Iteration 389, loss = 0.24574861\n",
      "Iteration 390, loss = 0.24489155\n",
      "Iteration 391, loss = 0.24404079\n",
      "Iteration 392, loss = 0.24319653\n",
      "Iteration 393, loss = 0.24235824\n",
      "Iteration 394, loss = 0.24152596\n",
      "Iteration 395, loss = 0.24070011\n",
      "Iteration 396, loss = 0.23988079\n",
      "Iteration 397, loss = 0.23906830\n",
      "Iteration 398, loss = 0.23826163\n",
      "Iteration 399, loss = 0.23746081\n",
      "Iteration 400, loss = 0.23666651\n",
      "Iteration 401, loss = 0.23587795\n",
      "Iteration 402, loss = 0.23509450\n",
      "Iteration 403, loss = 0.23431677\n",
      "Iteration 404, loss = 0.23354455\n",
      "Iteration 405, loss = 0.23277806\n",
      "Iteration 406, loss = 0.23201716\n",
      "Iteration 407, loss = 0.23126143\n",
      "Iteration 408, loss = 0.23051077\n",
      "Iteration 409, loss = 0.22976485\n",
      "Iteration 410, loss = 0.22902390\n",
      "Iteration 411, loss = 0.22828883\n",
      "Iteration 412, loss = 0.22755879\n",
      "Iteration 413, loss = 0.22683358\n",
      "Iteration 414, loss = 0.22611357\n",
      "Iteration 415, loss = 0.22539856\n",
      "Iteration 416, loss = 0.22468884\n",
      "Iteration 417, loss = 0.22398382\n",
      "Iteration 418, loss = 0.22328347\n",
      "Iteration 419, loss = 0.22258837\n",
      "Iteration 420, loss = 0.22189889\n",
      "Iteration 421, loss = 0.22121509\n",
      "Iteration 422, loss = 0.22053600\n",
      "Iteration 423, loss = 0.21986174\n",
      "Iteration 424, loss = 0.21919199\n",
      "Iteration 425, loss = 0.21852688\n",
      "Iteration 426, loss = 0.21786634\n",
      "Iteration 427, loss = 0.21721021\n",
      "Iteration 428, loss = 0.21655925\n",
      "Iteration 429, loss = 0.21591257\n",
      "Iteration 430, loss = 0.21527038\n",
      "Iteration 431, loss = 0.21463298\n",
      "Iteration 432, loss = 0.21399993\n",
      "Iteration 433, loss = 0.21337146\n",
      "Iteration 434, loss = 0.21274736\n",
      "Iteration 435, loss = 0.21212790\n",
      "Iteration 436, loss = 0.21151273\n",
      "Iteration 437, loss = 0.21090205\n",
      "Iteration 438, loss = 0.21029560\n",
      "Iteration 439, loss = 0.20969337\n",
      "Iteration 440, loss = 0.20909549\n",
      "Iteration 441, loss = 0.20850205\n",
      "Iteration 442, loss = 0.20791297\n",
      "Iteration 443, loss = 0.20732812\n",
      "Iteration 444, loss = 0.20674741\n",
      "Iteration 445, loss = 0.20617064\n",
      "Iteration 446, loss = 0.20559791\n",
      "Iteration 447, loss = 0.20502896\n",
      "Iteration 448, loss = 0.20446421\n",
      "Iteration 449, loss = 0.20390326\n",
      "Iteration 450, loss = 0.20334614\n",
      "Iteration 451, loss = 0.20279307\n",
      "Iteration 452, loss = 0.20224362\n",
      "Iteration 453, loss = 0.20169820\n",
      "Iteration 454, loss = 0.20115620\n",
      "Iteration 455, loss = 0.20061795\n",
      "Iteration 456, loss = 0.20008364\n",
      "Iteration 457, loss = 0.19955262\n",
      "Iteration 458, loss = 0.19902520\n",
      "Iteration 459, loss = 0.19850128\n",
      "Iteration 460, loss = 0.19798179\n",
      "Iteration 461, loss = 0.19746572\n",
      "Iteration 462, loss = 0.19695307\n",
      "Iteration 463, loss = 0.19644338\n",
      "Iteration 464, loss = 0.19593769\n",
      "Iteration 465, loss = 0.19543529\n",
      "Iteration 466, loss = 0.19493635\n",
      "Iteration 467, loss = 0.19444097\n",
      "Iteration 468, loss = 0.19394861\n",
      "Iteration 469, loss = 0.19345957\n",
      "Iteration 470, loss = 0.19297403\n",
      "Iteration 471, loss = 0.19249144\n",
      "Iteration 472, loss = 0.19201200\n",
      "Iteration 473, loss = 0.19153591\n",
      "Iteration 474, loss = 0.19106367\n",
      "Iteration 475, loss = 0.19059417\n",
      "Iteration 476, loss = 0.19012751\n",
      "Iteration 477, loss = 0.18966471\n",
      "Iteration 478, loss = 0.18920460\n",
      "Iteration 479, loss = 0.18874740\n",
      "Iteration 480, loss = 0.18829369\n",
      "Iteration 481, loss = 0.18784252\n",
      "Iteration 482, loss = 0.18739433\n",
      "Iteration 483, loss = 0.18694938\n",
      "Iteration 484, loss = 0.18650719\n",
      "Iteration 485, loss = 0.18606794\n",
      "Iteration 486, loss = 0.18563139\n",
      "Iteration 487, loss = 0.18519767\n",
      "Iteration 488, loss = 0.18476676\n",
      "Iteration 489, loss = 0.18433856\n",
      "Iteration 490, loss = 0.18391303\n",
      "Iteration 491, loss = 0.18349001\n",
      "Iteration 492, loss = 0.18306969\n",
      "Iteration 493, loss = 0.18265190\n",
      "Iteration 494, loss = 0.18223665\n",
      "Iteration 495, loss = 0.18182392\n",
      "Iteration 496, loss = 0.18141408\n",
      "Iteration 497, loss = 0.18100664\n",
      "Iteration 498, loss = 0.18060215\n",
      "Iteration 499, loss = 0.18019992\n",
      "Iteration 500, loss = 0.17980020\n",
      "Entrenamiento completado para ambos modelos.\n"
     ]
    },
    {
     "name": "stderr",
     "output_type": "stream",
     "text": [
      "d:\\UNIVERSIDADES\\UTEM\\2025\\APUNTES DE ASIGNATURAS\\INFB6052 - HERRAMIENTAS PARA CIENCIA DE DATOS\\Python\\.venv\\Lib\\site-packages\\sklearn\\neural_network\\_multilayer_perceptron.py:781: ConvergenceWarning:\n",
      "\n",
      "Stochastic Optimizer: Maximum iterations (500) reached and the optimization hasn't converged yet.\n",
      "\n"
     ]
    }
   ],
   "source": [
    "# Entrenar ambos modelos\n",
    "pipeline_rf.fit(X_train, y_train)\n",
    "pipeline_mlp.set_params(classifier__verbose=True).fit(X_train, y_train)\n",
    "\n",
    "print(\"Entrenamiento completado para ambos modelos.\")"
   ]
  },
  {
   "cell_type": "markdown",
   "id": "0ce17cb4",
   "metadata": {},
   "source": [
    "# Evaluar el Modelo\n",
    "Evaluar el rendimiento del modelo en los datos de prueba utilizando métricas como accuracy, precision, recall, etc."
   ]
  },
  {
   "cell_type": "code",
   "execution_count": 10,
   "id": "8841413a",
   "metadata": {},
   "outputs": [
    {
     "name": "stdout",
     "output_type": "stream",
     "text": [
      "Random Forest Accuracy: 1.00\n",
      "MLP Classifier Accuracy: 1.00\n"
     ]
    }
   ],
   "source": [
    "# Evaluar ambos modelos\n",
    "rf_preds = pipeline_rf.predict(X_test)\n",
    "mlp_preds = pipeline_mlp.predict(X_test)\n",
    "\n",
    "rf_accuracy = accuracy_score(y_test, rf_preds)\n",
    "mlp_accuracy = accuracy_score(y_test, mlp_preds)\n",
    "\n",
    "print(f\"Random Forest Accuracy: {rf_accuracy:.2f}\")\n",
    "print(f\"MLP Classifier Accuracy: {mlp_accuracy:.2f}\")"
   ]
  },
  {
   "cell_type": "markdown",
   "id": "abd58d8e",
   "metadata": {},
   "source": [
    "# Visualizar Resultados\n",
    "Graficar los resultados con Plotly para comparar el rendimiento de los modelos."
   ]
  },
  {
   "cell_type": "code",
   "execution_count": 11,
   "id": "0fe1732a",
   "metadata": {},
   "outputs": [
    {
     "data": {
      "application/vnd.plotly.v1+json": {
       "config": {
        "plotlyServerURL": "https://plot.ly"
       },
       "data": [
        {
         "name": "Random Forest",
         "type": "bar",
         "x": [
          "Accuracy"
         ],
         "y": [
          1
         ]
        },
        {
         "name": "MLP Classifier",
         "type": "bar",
         "x": [
          "Accuracy"
         ],
         "y": [
          1
         ]
        }
       ],
       "layout": {
        "barmode": "group",
        "template": {
         "data": {
          "bar": [
           {
            "error_x": {
             "color": "#2a3f5f"
            },
            "error_y": {
             "color": "#2a3f5f"
            },
            "marker": {
             "line": {
              "color": "#E5ECF6",
              "width": 0.5
             },
             "pattern": {
              "fillmode": "overlay",
              "size": 10,
              "solidity": 0.2
             }
            },
            "type": "bar"
           }
          ],
          "barpolar": [
           {
            "marker": {
             "line": {
              "color": "#E5ECF6",
              "width": 0.5
             },
             "pattern": {
              "fillmode": "overlay",
              "size": 10,
              "solidity": 0.2
             }
            },
            "type": "barpolar"
           }
          ],
          "carpet": [
           {
            "aaxis": {
             "endlinecolor": "#2a3f5f",
             "gridcolor": "white",
             "linecolor": "white",
             "minorgridcolor": "white",
             "startlinecolor": "#2a3f5f"
            },
            "baxis": {
             "endlinecolor": "#2a3f5f",
             "gridcolor": "white",
             "linecolor": "white",
             "minorgridcolor": "white",
             "startlinecolor": "#2a3f5f"
            },
            "type": "carpet"
           }
          ],
          "choropleth": [
           {
            "colorbar": {
             "outlinewidth": 0,
             "ticks": ""
            },
            "type": "choropleth"
           }
          ],
          "contour": [
           {
            "colorbar": {
             "outlinewidth": 0,
             "ticks": ""
            },
            "colorscale": [
             [
              0,
              "#0d0887"
             ],
             [
              0.1111111111111111,
              "#46039f"
             ],
             [
              0.2222222222222222,
              "#7201a8"
             ],
             [
              0.3333333333333333,
              "#9c179e"
             ],
             [
              0.4444444444444444,
              "#bd3786"
             ],
             [
              0.5555555555555556,
              "#d8576b"
             ],
             [
              0.6666666666666666,
              "#ed7953"
             ],
             [
              0.7777777777777778,
              "#fb9f3a"
             ],
             [
              0.8888888888888888,
              "#fdca26"
             ],
             [
              1,
              "#f0f921"
             ]
            ],
            "type": "contour"
           }
          ],
          "contourcarpet": [
           {
            "colorbar": {
             "outlinewidth": 0,
             "ticks": ""
            },
            "type": "contourcarpet"
           }
          ],
          "heatmap": [
           {
            "colorbar": {
             "outlinewidth": 0,
             "ticks": ""
            },
            "colorscale": [
             [
              0,
              "#0d0887"
             ],
             [
              0.1111111111111111,
              "#46039f"
             ],
             [
              0.2222222222222222,
              "#7201a8"
             ],
             [
              0.3333333333333333,
              "#9c179e"
             ],
             [
              0.4444444444444444,
              "#bd3786"
             ],
             [
              0.5555555555555556,
              "#d8576b"
             ],
             [
              0.6666666666666666,
              "#ed7953"
             ],
             [
              0.7777777777777778,
              "#fb9f3a"
             ],
             [
              0.8888888888888888,
              "#fdca26"
             ],
             [
              1,
              "#f0f921"
             ]
            ],
            "type": "heatmap"
           }
          ],
          "histogram": [
           {
            "marker": {
             "pattern": {
              "fillmode": "overlay",
              "size": 10,
              "solidity": 0.2
             }
            },
            "type": "histogram"
           }
          ],
          "histogram2d": [
           {
            "colorbar": {
             "outlinewidth": 0,
             "ticks": ""
            },
            "colorscale": [
             [
              0,
              "#0d0887"
             ],
             [
              0.1111111111111111,
              "#46039f"
             ],
             [
              0.2222222222222222,
              "#7201a8"
             ],
             [
              0.3333333333333333,
              "#9c179e"
             ],
             [
              0.4444444444444444,
              "#bd3786"
             ],
             [
              0.5555555555555556,
              "#d8576b"
             ],
             [
              0.6666666666666666,
              "#ed7953"
             ],
             [
              0.7777777777777778,
              "#fb9f3a"
             ],
             [
              0.8888888888888888,
              "#fdca26"
             ],
             [
              1,
              "#f0f921"
             ]
            ],
            "type": "histogram2d"
           }
          ],
          "histogram2dcontour": [
           {
            "colorbar": {
             "outlinewidth": 0,
             "ticks": ""
            },
            "colorscale": [
             [
              0,
              "#0d0887"
             ],
             [
              0.1111111111111111,
              "#46039f"
             ],
             [
              0.2222222222222222,
              "#7201a8"
             ],
             [
              0.3333333333333333,
              "#9c179e"
             ],
             [
              0.4444444444444444,
              "#bd3786"
             ],
             [
              0.5555555555555556,
              "#d8576b"
             ],
             [
              0.6666666666666666,
              "#ed7953"
             ],
             [
              0.7777777777777778,
              "#fb9f3a"
             ],
             [
              0.8888888888888888,
              "#fdca26"
             ],
             [
              1,
              "#f0f921"
             ]
            ],
            "type": "histogram2dcontour"
           }
          ],
          "mesh3d": [
           {
            "colorbar": {
             "outlinewidth": 0,
             "ticks": ""
            },
            "type": "mesh3d"
           }
          ],
          "parcoords": [
           {
            "line": {
             "colorbar": {
              "outlinewidth": 0,
              "ticks": ""
             }
            },
            "type": "parcoords"
           }
          ],
          "pie": [
           {
            "automargin": true,
            "type": "pie"
           }
          ],
          "scatter": [
           {
            "fillpattern": {
             "fillmode": "overlay",
             "size": 10,
             "solidity": 0.2
            },
            "type": "scatter"
           }
          ],
          "scatter3d": [
           {
            "line": {
             "colorbar": {
              "outlinewidth": 0,
              "ticks": ""
             }
            },
            "marker": {
             "colorbar": {
              "outlinewidth": 0,
              "ticks": ""
             }
            },
            "type": "scatter3d"
           }
          ],
          "scattercarpet": [
           {
            "marker": {
             "colorbar": {
              "outlinewidth": 0,
              "ticks": ""
             }
            },
            "type": "scattercarpet"
           }
          ],
          "scattergeo": [
           {
            "marker": {
             "colorbar": {
              "outlinewidth": 0,
              "ticks": ""
             }
            },
            "type": "scattergeo"
           }
          ],
          "scattergl": [
           {
            "marker": {
             "colorbar": {
              "outlinewidth": 0,
              "ticks": ""
             }
            },
            "type": "scattergl"
           }
          ],
          "scattermap": [
           {
            "marker": {
             "colorbar": {
              "outlinewidth": 0,
              "ticks": ""
             }
            },
            "type": "scattermap"
           }
          ],
          "scattermapbox": [
           {
            "marker": {
             "colorbar": {
              "outlinewidth": 0,
              "ticks": ""
             }
            },
            "type": "scattermapbox"
           }
          ],
          "scatterpolar": [
           {
            "marker": {
             "colorbar": {
              "outlinewidth": 0,
              "ticks": ""
             }
            },
            "type": "scatterpolar"
           }
          ],
          "scatterpolargl": [
           {
            "marker": {
             "colorbar": {
              "outlinewidth": 0,
              "ticks": ""
             }
            },
            "type": "scatterpolargl"
           }
          ],
          "scatterternary": [
           {
            "marker": {
             "colorbar": {
              "outlinewidth": 0,
              "ticks": ""
             }
            },
            "type": "scatterternary"
           }
          ],
          "surface": [
           {
            "colorbar": {
             "outlinewidth": 0,
             "ticks": ""
            },
            "colorscale": [
             [
              0,
              "#0d0887"
             ],
             [
              0.1111111111111111,
              "#46039f"
             ],
             [
              0.2222222222222222,
              "#7201a8"
             ],
             [
              0.3333333333333333,
              "#9c179e"
             ],
             [
              0.4444444444444444,
              "#bd3786"
             ],
             [
              0.5555555555555556,
              "#d8576b"
             ],
             [
              0.6666666666666666,
              "#ed7953"
             ],
             [
              0.7777777777777778,
              "#fb9f3a"
             ],
             [
              0.8888888888888888,
              "#fdca26"
             ],
             [
              1,
              "#f0f921"
             ]
            ],
            "type": "surface"
           }
          ],
          "table": [
           {
            "cells": {
             "fill": {
              "color": "#EBF0F8"
             },
             "line": {
              "color": "white"
             }
            },
            "header": {
             "fill": {
              "color": "#C8D4E3"
             },
             "line": {
              "color": "white"
             }
            },
            "type": "table"
           }
          ]
         },
         "layout": {
          "annotationdefaults": {
           "arrowcolor": "#2a3f5f",
           "arrowhead": 0,
           "arrowwidth": 1
          },
          "autotypenumbers": "strict",
          "coloraxis": {
           "colorbar": {
            "outlinewidth": 0,
            "ticks": ""
           }
          },
          "colorscale": {
           "diverging": [
            [
             0,
             "#8e0152"
            ],
            [
             0.1,
             "#c51b7d"
            ],
            [
             0.2,
             "#de77ae"
            ],
            [
             0.3,
             "#f1b6da"
            ],
            [
             0.4,
             "#fde0ef"
            ],
            [
             0.5,
             "#f7f7f7"
            ],
            [
             0.6,
             "#e6f5d0"
            ],
            [
             0.7,
             "#b8e186"
            ],
            [
             0.8,
             "#7fbc41"
            ],
            [
             0.9,
             "#4d9221"
            ],
            [
             1,
             "#276419"
            ]
           ],
           "sequential": [
            [
             0,
             "#0d0887"
            ],
            [
             0.1111111111111111,
             "#46039f"
            ],
            [
             0.2222222222222222,
             "#7201a8"
            ],
            [
             0.3333333333333333,
             "#9c179e"
            ],
            [
             0.4444444444444444,
             "#bd3786"
            ],
            [
             0.5555555555555556,
             "#d8576b"
            ],
            [
             0.6666666666666666,
             "#ed7953"
            ],
            [
             0.7777777777777778,
             "#fb9f3a"
            ],
            [
             0.8888888888888888,
             "#fdca26"
            ],
            [
             1,
             "#f0f921"
            ]
           ],
           "sequentialminus": [
            [
             0,
             "#0d0887"
            ],
            [
             0.1111111111111111,
             "#46039f"
            ],
            [
             0.2222222222222222,
             "#7201a8"
            ],
            [
             0.3333333333333333,
             "#9c179e"
            ],
            [
             0.4444444444444444,
             "#bd3786"
            ],
            [
             0.5555555555555556,
             "#d8576b"
            ],
            [
             0.6666666666666666,
             "#ed7953"
            ],
            [
             0.7777777777777778,
             "#fb9f3a"
            ],
            [
             0.8888888888888888,
             "#fdca26"
            ],
            [
             1,
             "#f0f921"
            ]
           ]
          },
          "colorway": [
           "#636efa",
           "#EF553B",
           "#00cc96",
           "#ab63fa",
           "#FFA15A",
           "#19d3f3",
           "#FF6692",
           "#B6E880",
           "#FF97FF",
           "#FECB52"
          ],
          "font": {
           "color": "#2a3f5f"
          },
          "geo": {
           "bgcolor": "white",
           "lakecolor": "white",
           "landcolor": "#E5ECF6",
           "showlakes": true,
           "showland": true,
           "subunitcolor": "white"
          },
          "hoverlabel": {
           "align": "left"
          },
          "hovermode": "closest",
          "mapbox": {
           "style": "light"
          },
          "paper_bgcolor": "white",
          "plot_bgcolor": "#E5ECF6",
          "polar": {
           "angularaxis": {
            "gridcolor": "white",
            "linecolor": "white",
            "ticks": ""
           },
           "bgcolor": "#E5ECF6",
           "radialaxis": {
            "gridcolor": "white",
            "linecolor": "white",
            "ticks": ""
           }
          },
          "scene": {
           "xaxis": {
            "backgroundcolor": "#E5ECF6",
            "gridcolor": "white",
            "gridwidth": 2,
            "linecolor": "white",
            "showbackground": true,
            "ticks": "",
            "zerolinecolor": "white"
           },
           "yaxis": {
            "backgroundcolor": "#E5ECF6",
            "gridcolor": "white",
            "gridwidth": 2,
            "linecolor": "white",
            "showbackground": true,
            "ticks": "",
            "zerolinecolor": "white"
           },
           "zaxis": {
            "backgroundcolor": "#E5ECF6",
            "gridcolor": "white",
            "gridwidth": 2,
            "linecolor": "white",
            "showbackground": true,
            "ticks": "",
            "zerolinecolor": "white"
           }
          },
          "shapedefaults": {
           "line": {
            "color": "#2a3f5f"
           }
          },
          "ternary": {
           "aaxis": {
            "gridcolor": "white",
            "linecolor": "white",
            "ticks": ""
           },
           "baxis": {
            "gridcolor": "white",
            "linecolor": "white",
            "ticks": ""
           },
           "bgcolor": "#E5ECF6",
           "caxis": {
            "gridcolor": "white",
            "linecolor": "white",
            "ticks": ""
           }
          },
          "title": {
           "x": 0.05
          },
          "xaxis": {
           "automargin": true,
           "gridcolor": "white",
           "linecolor": "white",
           "ticks": "",
           "title": {
            "standoff": 15
           },
           "zerolinecolor": "white",
           "zerolinewidth": 2
          },
          "yaxis": {
           "automargin": true,
           "gridcolor": "white",
           "linecolor": "white",
           "ticks": "",
           "title": {
            "standoff": 15
           },
           "zerolinecolor": "white",
           "zerolinewidth": 2
          }
         }
        },
        "title": {
         "text": "Comparación de Precisión entre Modelos"
        },
        "xaxis": {
         "title": {
          "text": "Métrica"
         }
        },
        "yaxis": {
         "title": {
          "text": "Valor"
         }
        }
       }
      }
     },
     "metadata": {},
     "output_type": "display_data"
    }
   ],
   "source": [
    "import plotly.graph_objects as go\n",
    "\n",
    "# Crear gráfico de barras para comparar las precisiones\n",
    "fig = go.Figure(data=[\n",
    "    go.Bar(name='Random Forest', x=['Accuracy'], y=[rf_accuracy]),\n",
    "    go.Bar(name='MLP Classifier', x=['Accuracy'], y=[mlp_accuracy])\n",
    "])\n",
    "\n",
    "# Actualizar diseño del gráfico\n",
    "fig.update_layout(\n",
    "    title='Comparación de Precisión entre Modelos',\n",
    "    xaxis_title='Métrica',\n",
    "    yaxis_title='Valor',\n",
    "    barmode='group'\n",
    ")\n",
    "\n",
    "fig.show()"
   ]
  },
  {
   "cell_type": "code",
   "execution_count": 12,
   "id": "a3de9921",
   "metadata": {},
   "outputs": [
    {
     "data": {
      "application/vnd.plotly.v1+json": {
       "config": {
        "plotlyServerURL": "https://plot.ly"
       },
       "data": [
        {
         "colorscale": [
          [
           0,
           "rgb(247,251,255)"
          ],
          [
           0.125,
           "rgb(222,235,247)"
          ],
          [
           0.25,
           "rgb(198,219,239)"
          ],
          [
           0.375,
           "rgb(158,202,225)"
          ],
          [
           0.5,
           "rgb(107,174,214)"
          ],
          [
           0.625,
           "rgb(66,146,198)"
          ],
          [
           0.75,
           "rgb(33,113,181)"
          ],
          [
           0.875,
           "rgb(8,81,156)"
          ],
          [
           1,
           "rgb(8,48,107)"
          ]
         ],
         "reversescale": false,
         "showscale": true,
         "type": "heatmap",
         "x": [
          "Clase 0",
          "Clase 1",
          "Clase 2"
         ],
         "y": [
          "Clase 0",
          "Clase 1",
          "Clase 2"
         ],
         "z": {
          "bdata": "DwAAAAsAAAAM",
          "dtype": "i1",
          "shape": "3, 3"
         }
        }
       ],
       "layout": {
        "annotations": [
         {
          "font": {
           "color": "#FFFFFF"
          },
          "showarrow": false,
          "text": "15",
          "x": "Clase 0",
          "xref": "x",
          "y": "Clase 0",
          "yref": "y"
         },
         {
          "font": {
           "color": "#000000"
          },
          "showarrow": false,
          "text": "0",
          "x": "Clase 1",
          "xref": "x",
          "y": "Clase 0",
          "yref": "y"
         },
         {
          "font": {
           "color": "#000000"
          },
          "showarrow": false,
          "text": "0",
          "x": "Clase 2",
          "xref": "x",
          "y": "Clase 0",
          "yref": "y"
         },
         {
          "font": {
           "color": "#000000"
          },
          "showarrow": false,
          "text": "0",
          "x": "Clase 0",
          "xref": "x",
          "y": "Clase 1",
          "yref": "y"
         },
         {
          "font": {
           "color": "#FFFFFF"
          },
          "showarrow": false,
          "text": "11",
          "x": "Clase 1",
          "xref": "x",
          "y": "Clase 1",
          "yref": "y"
         },
         {
          "font": {
           "color": "#000000"
          },
          "showarrow": false,
          "text": "0",
          "x": "Clase 2",
          "xref": "x",
          "y": "Clase 1",
          "yref": "y"
         },
         {
          "font": {
           "color": "#000000"
          },
          "showarrow": false,
          "text": "0",
          "x": "Clase 0",
          "xref": "x",
          "y": "Clase 2",
          "yref": "y"
         },
         {
          "font": {
           "color": "#000000"
          },
          "showarrow": false,
          "text": "0",
          "x": "Clase 1",
          "xref": "x",
          "y": "Clase 2",
          "yref": "y"
         },
         {
          "font": {
           "color": "#FFFFFF"
          },
          "showarrow": false,
          "text": "12",
          "x": "Clase 2",
          "xref": "x",
          "y": "Clase 2",
          "yref": "y"
         }
        ],
        "template": {
         "data": {
          "bar": [
           {
            "error_x": {
             "color": "#2a3f5f"
            },
            "error_y": {
             "color": "#2a3f5f"
            },
            "marker": {
             "line": {
              "color": "#E5ECF6",
              "width": 0.5
             },
             "pattern": {
              "fillmode": "overlay",
              "size": 10,
              "solidity": 0.2
             }
            },
            "type": "bar"
           }
          ],
          "barpolar": [
           {
            "marker": {
             "line": {
              "color": "#E5ECF6",
              "width": 0.5
             },
             "pattern": {
              "fillmode": "overlay",
              "size": 10,
              "solidity": 0.2
             }
            },
            "type": "barpolar"
           }
          ],
          "carpet": [
           {
            "aaxis": {
             "endlinecolor": "#2a3f5f",
             "gridcolor": "white",
             "linecolor": "white",
             "minorgridcolor": "white",
             "startlinecolor": "#2a3f5f"
            },
            "baxis": {
             "endlinecolor": "#2a3f5f",
             "gridcolor": "white",
             "linecolor": "white",
             "minorgridcolor": "white",
             "startlinecolor": "#2a3f5f"
            },
            "type": "carpet"
           }
          ],
          "choropleth": [
           {
            "colorbar": {
             "outlinewidth": 0,
             "ticks": ""
            },
            "type": "choropleth"
           }
          ],
          "contour": [
           {
            "colorbar": {
             "outlinewidth": 0,
             "ticks": ""
            },
            "colorscale": [
             [
              0,
              "#0d0887"
             ],
             [
              0.1111111111111111,
              "#46039f"
             ],
             [
              0.2222222222222222,
              "#7201a8"
             ],
             [
              0.3333333333333333,
              "#9c179e"
             ],
             [
              0.4444444444444444,
              "#bd3786"
             ],
             [
              0.5555555555555556,
              "#d8576b"
             ],
             [
              0.6666666666666666,
              "#ed7953"
             ],
             [
              0.7777777777777778,
              "#fb9f3a"
             ],
             [
              0.8888888888888888,
              "#fdca26"
             ],
             [
              1,
              "#f0f921"
             ]
            ],
            "type": "contour"
           }
          ],
          "contourcarpet": [
           {
            "colorbar": {
             "outlinewidth": 0,
             "ticks": ""
            },
            "type": "contourcarpet"
           }
          ],
          "heatmap": [
           {
            "colorbar": {
             "outlinewidth": 0,
             "ticks": ""
            },
            "colorscale": [
             [
              0,
              "#0d0887"
             ],
             [
              0.1111111111111111,
              "#46039f"
             ],
             [
              0.2222222222222222,
              "#7201a8"
             ],
             [
              0.3333333333333333,
              "#9c179e"
             ],
             [
              0.4444444444444444,
              "#bd3786"
             ],
             [
              0.5555555555555556,
              "#d8576b"
             ],
             [
              0.6666666666666666,
              "#ed7953"
             ],
             [
              0.7777777777777778,
              "#fb9f3a"
             ],
             [
              0.8888888888888888,
              "#fdca26"
             ],
             [
              1,
              "#f0f921"
             ]
            ],
            "type": "heatmap"
           }
          ],
          "histogram": [
           {
            "marker": {
             "pattern": {
              "fillmode": "overlay",
              "size": 10,
              "solidity": 0.2
             }
            },
            "type": "histogram"
           }
          ],
          "histogram2d": [
           {
            "colorbar": {
             "outlinewidth": 0,
             "ticks": ""
            },
            "colorscale": [
             [
              0,
              "#0d0887"
             ],
             [
              0.1111111111111111,
              "#46039f"
             ],
             [
              0.2222222222222222,
              "#7201a8"
             ],
             [
              0.3333333333333333,
              "#9c179e"
             ],
             [
              0.4444444444444444,
              "#bd3786"
             ],
             [
              0.5555555555555556,
              "#d8576b"
             ],
             [
              0.6666666666666666,
              "#ed7953"
             ],
             [
              0.7777777777777778,
              "#fb9f3a"
             ],
             [
              0.8888888888888888,
              "#fdca26"
             ],
             [
              1,
              "#f0f921"
             ]
            ],
            "type": "histogram2d"
           }
          ],
          "histogram2dcontour": [
           {
            "colorbar": {
             "outlinewidth": 0,
             "ticks": ""
            },
            "colorscale": [
             [
              0,
              "#0d0887"
             ],
             [
              0.1111111111111111,
              "#46039f"
             ],
             [
              0.2222222222222222,
              "#7201a8"
             ],
             [
              0.3333333333333333,
              "#9c179e"
             ],
             [
              0.4444444444444444,
              "#bd3786"
             ],
             [
              0.5555555555555556,
              "#d8576b"
             ],
             [
              0.6666666666666666,
              "#ed7953"
             ],
             [
              0.7777777777777778,
              "#fb9f3a"
             ],
             [
              0.8888888888888888,
              "#fdca26"
             ],
             [
              1,
              "#f0f921"
             ]
            ],
            "type": "histogram2dcontour"
           }
          ],
          "mesh3d": [
           {
            "colorbar": {
             "outlinewidth": 0,
             "ticks": ""
            },
            "type": "mesh3d"
           }
          ],
          "parcoords": [
           {
            "line": {
             "colorbar": {
              "outlinewidth": 0,
              "ticks": ""
             }
            },
            "type": "parcoords"
           }
          ],
          "pie": [
           {
            "automargin": true,
            "type": "pie"
           }
          ],
          "scatter": [
           {
            "fillpattern": {
             "fillmode": "overlay",
             "size": 10,
             "solidity": 0.2
            },
            "type": "scatter"
           }
          ],
          "scatter3d": [
           {
            "line": {
             "colorbar": {
              "outlinewidth": 0,
              "ticks": ""
             }
            },
            "marker": {
             "colorbar": {
              "outlinewidth": 0,
              "ticks": ""
             }
            },
            "type": "scatter3d"
           }
          ],
          "scattercarpet": [
           {
            "marker": {
             "colorbar": {
              "outlinewidth": 0,
              "ticks": ""
             }
            },
            "type": "scattercarpet"
           }
          ],
          "scattergeo": [
           {
            "marker": {
             "colorbar": {
              "outlinewidth": 0,
              "ticks": ""
             }
            },
            "type": "scattergeo"
           }
          ],
          "scattergl": [
           {
            "marker": {
             "colorbar": {
              "outlinewidth": 0,
              "ticks": ""
             }
            },
            "type": "scattergl"
           }
          ],
          "scattermap": [
           {
            "marker": {
             "colorbar": {
              "outlinewidth": 0,
              "ticks": ""
             }
            },
            "type": "scattermap"
           }
          ],
          "scattermapbox": [
           {
            "marker": {
             "colorbar": {
              "outlinewidth": 0,
              "ticks": ""
             }
            },
            "type": "scattermapbox"
           }
          ],
          "scatterpolar": [
           {
            "marker": {
             "colorbar": {
              "outlinewidth": 0,
              "ticks": ""
             }
            },
            "type": "scatterpolar"
           }
          ],
          "scatterpolargl": [
           {
            "marker": {
             "colorbar": {
              "outlinewidth": 0,
              "ticks": ""
             }
            },
            "type": "scatterpolargl"
           }
          ],
          "scatterternary": [
           {
            "marker": {
             "colorbar": {
              "outlinewidth": 0,
              "ticks": ""
             }
            },
            "type": "scatterternary"
           }
          ],
          "surface": [
           {
            "colorbar": {
             "outlinewidth": 0,
             "ticks": ""
            },
            "colorscale": [
             [
              0,
              "#0d0887"
             ],
             [
              0.1111111111111111,
              "#46039f"
             ],
             [
              0.2222222222222222,
              "#7201a8"
             ],
             [
              0.3333333333333333,
              "#9c179e"
             ],
             [
              0.4444444444444444,
              "#bd3786"
             ],
             [
              0.5555555555555556,
              "#d8576b"
             ],
             [
              0.6666666666666666,
              "#ed7953"
             ],
             [
              0.7777777777777778,
              "#fb9f3a"
             ],
             [
              0.8888888888888888,
              "#fdca26"
             ],
             [
              1,
              "#f0f921"
             ]
            ],
            "type": "surface"
           }
          ],
          "table": [
           {
            "cells": {
             "fill": {
              "color": "#EBF0F8"
             },
             "line": {
              "color": "white"
             }
            },
            "header": {
             "fill": {
              "color": "#C8D4E3"
             },
             "line": {
              "color": "white"
             }
            },
            "type": "table"
           }
          ]
         },
         "layout": {
          "annotationdefaults": {
           "arrowcolor": "#2a3f5f",
           "arrowhead": 0,
           "arrowwidth": 1
          },
          "autotypenumbers": "strict",
          "coloraxis": {
           "colorbar": {
            "outlinewidth": 0,
            "ticks": ""
           }
          },
          "colorscale": {
           "diverging": [
            [
             0,
             "#8e0152"
            ],
            [
             0.1,
             "#c51b7d"
            ],
            [
             0.2,
             "#de77ae"
            ],
            [
             0.3,
             "#f1b6da"
            ],
            [
             0.4,
             "#fde0ef"
            ],
            [
             0.5,
             "#f7f7f7"
            ],
            [
             0.6,
             "#e6f5d0"
            ],
            [
             0.7,
             "#b8e186"
            ],
            [
             0.8,
             "#7fbc41"
            ],
            [
             0.9,
             "#4d9221"
            ],
            [
             1,
             "#276419"
            ]
           ],
           "sequential": [
            [
             0,
             "#0d0887"
            ],
            [
             0.1111111111111111,
             "#46039f"
            ],
            [
             0.2222222222222222,
             "#7201a8"
            ],
            [
             0.3333333333333333,
             "#9c179e"
            ],
            [
             0.4444444444444444,
             "#bd3786"
            ],
            [
             0.5555555555555556,
             "#d8576b"
            ],
            [
             0.6666666666666666,
             "#ed7953"
            ],
            [
             0.7777777777777778,
             "#fb9f3a"
            ],
            [
             0.8888888888888888,
             "#fdca26"
            ],
            [
             1,
             "#f0f921"
            ]
           ],
           "sequentialminus": [
            [
             0,
             "#0d0887"
            ],
            [
             0.1111111111111111,
             "#46039f"
            ],
            [
             0.2222222222222222,
             "#7201a8"
            ],
            [
             0.3333333333333333,
             "#9c179e"
            ],
            [
             0.4444444444444444,
             "#bd3786"
            ],
            [
             0.5555555555555556,
             "#d8576b"
            ],
            [
             0.6666666666666666,
             "#ed7953"
            ],
            [
             0.7777777777777778,
             "#fb9f3a"
            ],
            [
             0.8888888888888888,
             "#fdca26"
            ],
            [
             1,
             "#f0f921"
            ]
           ]
          },
          "colorway": [
           "#636efa",
           "#EF553B",
           "#00cc96",
           "#ab63fa",
           "#FFA15A",
           "#19d3f3",
           "#FF6692",
           "#B6E880",
           "#FF97FF",
           "#FECB52"
          ],
          "font": {
           "color": "#2a3f5f"
          },
          "geo": {
           "bgcolor": "white",
           "lakecolor": "white",
           "landcolor": "#E5ECF6",
           "showlakes": true,
           "showland": true,
           "subunitcolor": "white"
          },
          "hoverlabel": {
           "align": "left"
          },
          "hovermode": "closest",
          "mapbox": {
           "style": "light"
          },
          "paper_bgcolor": "white",
          "plot_bgcolor": "#E5ECF6",
          "polar": {
           "angularaxis": {
            "gridcolor": "white",
            "linecolor": "white",
            "ticks": ""
           },
           "bgcolor": "#E5ECF6",
           "radialaxis": {
            "gridcolor": "white",
            "linecolor": "white",
            "ticks": ""
           }
          },
          "scene": {
           "xaxis": {
            "backgroundcolor": "#E5ECF6",
            "gridcolor": "white",
            "gridwidth": 2,
            "linecolor": "white",
            "showbackground": true,
            "ticks": "",
            "zerolinecolor": "white"
           },
           "yaxis": {
            "backgroundcolor": "#E5ECF6",
            "gridcolor": "white",
            "gridwidth": 2,
            "linecolor": "white",
            "showbackground": true,
            "ticks": "",
            "zerolinecolor": "white"
           },
           "zaxis": {
            "backgroundcolor": "#E5ECF6",
            "gridcolor": "white",
            "gridwidth": 2,
            "linecolor": "white",
            "showbackground": true,
            "ticks": "",
            "zerolinecolor": "white"
           }
          },
          "shapedefaults": {
           "line": {
            "color": "#2a3f5f"
           }
          },
          "ternary": {
           "aaxis": {
            "gridcolor": "white",
            "linecolor": "white",
            "ticks": ""
           },
           "baxis": {
            "gridcolor": "white",
            "linecolor": "white",
            "ticks": ""
           },
           "bgcolor": "#E5ECF6",
           "caxis": {
            "gridcolor": "white",
            "linecolor": "white",
            "ticks": ""
           }
          },
          "title": {
           "x": 0.05
          },
          "xaxis": {
           "automargin": true,
           "gridcolor": "white",
           "linecolor": "white",
           "ticks": "",
           "title": {
            "standoff": 15
           },
           "zerolinecolor": "white",
           "zerolinewidth": 2
          },
          "yaxis": {
           "automargin": true,
           "gridcolor": "white",
           "linecolor": "white",
           "ticks": "",
           "title": {
            "standoff": 15
           },
           "zerolinecolor": "white",
           "zerolinewidth": 2
          }
         }
        },
        "title": {
         "text": "Matriz de Confusión - Random Forest"
        },
        "xaxis": {
         "dtick": 1,
         "gridcolor": "rgb(0, 0, 0)",
         "side": "top",
         "ticks": ""
        },
        "yaxis": {
         "dtick": 1,
         "ticks": "",
         "ticksuffix": "  "
        }
       }
      }
     },
     "metadata": {},
     "output_type": "display_data"
    },
    {
     "data": {
      "application/vnd.plotly.v1+json": {
       "config": {
        "plotlyServerURL": "https://plot.ly"
       },
       "data": [
        {
         "colorscale": [
          [
           0,
           "rgb(247,252,245)"
          ],
          [
           0.125,
           "rgb(229,245,224)"
          ],
          [
           0.25,
           "rgb(199,233,192)"
          ],
          [
           0.375,
           "rgb(161,217,155)"
          ],
          [
           0.5,
           "rgb(116,196,118)"
          ],
          [
           0.625,
           "rgb(65,171,93)"
          ],
          [
           0.75,
           "rgb(35,139,69)"
          ],
          [
           0.875,
           "rgb(0,109,44)"
          ],
          [
           1,
           "rgb(0,68,27)"
          ]
         ],
         "reversescale": false,
         "showscale": true,
         "type": "heatmap",
         "x": [
          "Clase 0",
          "Clase 1",
          "Clase 2"
         ],
         "y": [
          "Clase 0",
          "Clase 1",
          "Clase 2"
         ],
         "z": {
          "bdata": "DwAAAAsAAAAM",
          "dtype": "i1",
          "shape": "3, 3"
         }
        }
       ],
       "layout": {
        "annotations": [
         {
          "font": {
           "color": "#FFFFFF"
          },
          "showarrow": false,
          "text": "15",
          "x": "Clase 0",
          "xref": "x",
          "y": "Clase 0",
          "yref": "y"
         },
         {
          "font": {
           "color": "#000000"
          },
          "showarrow": false,
          "text": "0",
          "x": "Clase 1",
          "xref": "x",
          "y": "Clase 0",
          "yref": "y"
         },
         {
          "font": {
           "color": "#000000"
          },
          "showarrow": false,
          "text": "0",
          "x": "Clase 2",
          "xref": "x",
          "y": "Clase 0",
          "yref": "y"
         },
         {
          "font": {
           "color": "#000000"
          },
          "showarrow": false,
          "text": "0",
          "x": "Clase 0",
          "xref": "x",
          "y": "Clase 1",
          "yref": "y"
         },
         {
          "font": {
           "color": "#FFFFFF"
          },
          "showarrow": false,
          "text": "11",
          "x": "Clase 1",
          "xref": "x",
          "y": "Clase 1",
          "yref": "y"
         },
         {
          "font": {
           "color": "#000000"
          },
          "showarrow": false,
          "text": "0",
          "x": "Clase 2",
          "xref": "x",
          "y": "Clase 1",
          "yref": "y"
         },
         {
          "font": {
           "color": "#000000"
          },
          "showarrow": false,
          "text": "0",
          "x": "Clase 0",
          "xref": "x",
          "y": "Clase 2",
          "yref": "y"
         },
         {
          "font": {
           "color": "#000000"
          },
          "showarrow": false,
          "text": "0",
          "x": "Clase 1",
          "xref": "x",
          "y": "Clase 2",
          "yref": "y"
         },
         {
          "font": {
           "color": "#FFFFFF"
          },
          "showarrow": false,
          "text": "12",
          "x": "Clase 2",
          "xref": "x",
          "y": "Clase 2",
          "yref": "y"
         }
        ],
        "template": {
         "data": {
          "bar": [
           {
            "error_x": {
             "color": "#2a3f5f"
            },
            "error_y": {
             "color": "#2a3f5f"
            },
            "marker": {
             "line": {
              "color": "#E5ECF6",
              "width": 0.5
             },
             "pattern": {
              "fillmode": "overlay",
              "size": 10,
              "solidity": 0.2
             }
            },
            "type": "bar"
           }
          ],
          "barpolar": [
           {
            "marker": {
             "line": {
              "color": "#E5ECF6",
              "width": 0.5
             },
             "pattern": {
              "fillmode": "overlay",
              "size": 10,
              "solidity": 0.2
             }
            },
            "type": "barpolar"
           }
          ],
          "carpet": [
           {
            "aaxis": {
             "endlinecolor": "#2a3f5f",
             "gridcolor": "white",
             "linecolor": "white",
             "minorgridcolor": "white",
             "startlinecolor": "#2a3f5f"
            },
            "baxis": {
             "endlinecolor": "#2a3f5f",
             "gridcolor": "white",
             "linecolor": "white",
             "minorgridcolor": "white",
             "startlinecolor": "#2a3f5f"
            },
            "type": "carpet"
           }
          ],
          "choropleth": [
           {
            "colorbar": {
             "outlinewidth": 0,
             "ticks": ""
            },
            "type": "choropleth"
           }
          ],
          "contour": [
           {
            "colorbar": {
             "outlinewidth": 0,
             "ticks": ""
            },
            "colorscale": [
             [
              0,
              "#0d0887"
             ],
             [
              0.1111111111111111,
              "#46039f"
             ],
             [
              0.2222222222222222,
              "#7201a8"
             ],
             [
              0.3333333333333333,
              "#9c179e"
             ],
             [
              0.4444444444444444,
              "#bd3786"
             ],
             [
              0.5555555555555556,
              "#d8576b"
             ],
             [
              0.6666666666666666,
              "#ed7953"
             ],
             [
              0.7777777777777778,
              "#fb9f3a"
             ],
             [
              0.8888888888888888,
              "#fdca26"
             ],
             [
              1,
              "#f0f921"
             ]
            ],
            "type": "contour"
           }
          ],
          "contourcarpet": [
           {
            "colorbar": {
             "outlinewidth": 0,
             "ticks": ""
            },
            "type": "contourcarpet"
           }
          ],
          "heatmap": [
           {
            "colorbar": {
             "outlinewidth": 0,
             "ticks": ""
            },
            "colorscale": [
             [
              0,
              "#0d0887"
             ],
             [
              0.1111111111111111,
              "#46039f"
             ],
             [
              0.2222222222222222,
              "#7201a8"
             ],
             [
              0.3333333333333333,
              "#9c179e"
             ],
             [
              0.4444444444444444,
              "#bd3786"
             ],
             [
              0.5555555555555556,
              "#d8576b"
             ],
             [
              0.6666666666666666,
              "#ed7953"
             ],
             [
              0.7777777777777778,
              "#fb9f3a"
             ],
             [
              0.8888888888888888,
              "#fdca26"
             ],
             [
              1,
              "#f0f921"
             ]
            ],
            "type": "heatmap"
           }
          ],
          "histogram": [
           {
            "marker": {
             "pattern": {
              "fillmode": "overlay",
              "size": 10,
              "solidity": 0.2
             }
            },
            "type": "histogram"
           }
          ],
          "histogram2d": [
           {
            "colorbar": {
             "outlinewidth": 0,
             "ticks": ""
            },
            "colorscale": [
             [
              0,
              "#0d0887"
             ],
             [
              0.1111111111111111,
              "#46039f"
             ],
             [
              0.2222222222222222,
              "#7201a8"
             ],
             [
              0.3333333333333333,
              "#9c179e"
             ],
             [
              0.4444444444444444,
              "#bd3786"
             ],
             [
              0.5555555555555556,
              "#d8576b"
             ],
             [
              0.6666666666666666,
              "#ed7953"
             ],
             [
              0.7777777777777778,
              "#fb9f3a"
             ],
             [
              0.8888888888888888,
              "#fdca26"
             ],
             [
              1,
              "#f0f921"
             ]
            ],
            "type": "histogram2d"
           }
          ],
          "histogram2dcontour": [
           {
            "colorbar": {
             "outlinewidth": 0,
             "ticks": ""
            },
            "colorscale": [
             [
              0,
              "#0d0887"
             ],
             [
              0.1111111111111111,
              "#46039f"
             ],
             [
              0.2222222222222222,
              "#7201a8"
             ],
             [
              0.3333333333333333,
              "#9c179e"
             ],
             [
              0.4444444444444444,
              "#bd3786"
             ],
             [
              0.5555555555555556,
              "#d8576b"
             ],
             [
              0.6666666666666666,
              "#ed7953"
             ],
             [
              0.7777777777777778,
              "#fb9f3a"
             ],
             [
              0.8888888888888888,
              "#fdca26"
             ],
             [
              1,
              "#f0f921"
             ]
            ],
            "type": "histogram2dcontour"
           }
          ],
          "mesh3d": [
           {
            "colorbar": {
             "outlinewidth": 0,
             "ticks": ""
            },
            "type": "mesh3d"
           }
          ],
          "parcoords": [
           {
            "line": {
             "colorbar": {
              "outlinewidth": 0,
              "ticks": ""
             }
            },
            "type": "parcoords"
           }
          ],
          "pie": [
           {
            "automargin": true,
            "type": "pie"
           }
          ],
          "scatter": [
           {
            "fillpattern": {
             "fillmode": "overlay",
             "size": 10,
             "solidity": 0.2
            },
            "type": "scatter"
           }
          ],
          "scatter3d": [
           {
            "line": {
             "colorbar": {
              "outlinewidth": 0,
              "ticks": ""
             }
            },
            "marker": {
             "colorbar": {
              "outlinewidth": 0,
              "ticks": ""
             }
            },
            "type": "scatter3d"
           }
          ],
          "scattercarpet": [
           {
            "marker": {
             "colorbar": {
              "outlinewidth": 0,
              "ticks": ""
             }
            },
            "type": "scattercarpet"
           }
          ],
          "scattergeo": [
           {
            "marker": {
             "colorbar": {
              "outlinewidth": 0,
              "ticks": ""
             }
            },
            "type": "scattergeo"
           }
          ],
          "scattergl": [
           {
            "marker": {
             "colorbar": {
              "outlinewidth": 0,
              "ticks": ""
             }
            },
            "type": "scattergl"
           }
          ],
          "scattermap": [
           {
            "marker": {
             "colorbar": {
              "outlinewidth": 0,
              "ticks": ""
             }
            },
            "type": "scattermap"
           }
          ],
          "scattermapbox": [
           {
            "marker": {
             "colorbar": {
              "outlinewidth": 0,
              "ticks": ""
             }
            },
            "type": "scattermapbox"
           }
          ],
          "scatterpolar": [
           {
            "marker": {
             "colorbar": {
              "outlinewidth": 0,
              "ticks": ""
             }
            },
            "type": "scatterpolar"
           }
          ],
          "scatterpolargl": [
           {
            "marker": {
             "colorbar": {
              "outlinewidth": 0,
              "ticks": ""
             }
            },
            "type": "scatterpolargl"
           }
          ],
          "scatterternary": [
           {
            "marker": {
             "colorbar": {
              "outlinewidth": 0,
              "ticks": ""
             }
            },
            "type": "scatterternary"
           }
          ],
          "surface": [
           {
            "colorbar": {
             "outlinewidth": 0,
             "ticks": ""
            },
            "colorscale": [
             [
              0,
              "#0d0887"
             ],
             [
              0.1111111111111111,
              "#46039f"
             ],
             [
              0.2222222222222222,
              "#7201a8"
             ],
             [
              0.3333333333333333,
              "#9c179e"
             ],
             [
              0.4444444444444444,
              "#bd3786"
             ],
             [
              0.5555555555555556,
              "#d8576b"
             ],
             [
              0.6666666666666666,
              "#ed7953"
             ],
             [
              0.7777777777777778,
              "#fb9f3a"
             ],
             [
              0.8888888888888888,
              "#fdca26"
             ],
             [
              1,
              "#f0f921"
             ]
            ],
            "type": "surface"
           }
          ],
          "table": [
           {
            "cells": {
             "fill": {
              "color": "#EBF0F8"
             },
             "line": {
              "color": "white"
             }
            },
            "header": {
             "fill": {
              "color": "#C8D4E3"
             },
             "line": {
              "color": "white"
             }
            },
            "type": "table"
           }
          ]
         },
         "layout": {
          "annotationdefaults": {
           "arrowcolor": "#2a3f5f",
           "arrowhead": 0,
           "arrowwidth": 1
          },
          "autotypenumbers": "strict",
          "coloraxis": {
           "colorbar": {
            "outlinewidth": 0,
            "ticks": ""
           }
          },
          "colorscale": {
           "diverging": [
            [
             0,
             "#8e0152"
            ],
            [
             0.1,
             "#c51b7d"
            ],
            [
             0.2,
             "#de77ae"
            ],
            [
             0.3,
             "#f1b6da"
            ],
            [
             0.4,
             "#fde0ef"
            ],
            [
             0.5,
             "#f7f7f7"
            ],
            [
             0.6,
             "#e6f5d0"
            ],
            [
             0.7,
             "#b8e186"
            ],
            [
             0.8,
             "#7fbc41"
            ],
            [
             0.9,
             "#4d9221"
            ],
            [
             1,
             "#276419"
            ]
           ],
           "sequential": [
            [
             0,
             "#0d0887"
            ],
            [
             0.1111111111111111,
             "#46039f"
            ],
            [
             0.2222222222222222,
             "#7201a8"
            ],
            [
             0.3333333333333333,
             "#9c179e"
            ],
            [
             0.4444444444444444,
             "#bd3786"
            ],
            [
             0.5555555555555556,
             "#d8576b"
            ],
            [
             0.6666666666666666,
             "#ed7953"
            ],
            [
             0.7777777777777778,
             "#fb9f3a"
            ],
            [
             0.8888888888888888,
             "#fdca26"
            ],
            [
             1,
             "#f0f921"
            ]
           ],
           "sequentialminus": [
            [
             0,
             "#0d0887"
            ],
            [
             0.1111111111111111,
             "#46039f"
            ],
            [
             0.2222222222222222,
             "#7201a8"
            ],
            [
             0.3333333333333333,
             "#9c179e"
            ],
            [
             0.4444444444444444,
             "#bd3786"
            ],
            [
             0.5555555555555556,
             "#d8576b"
            ],
            [
             0.6666666666666666,
             "#ed7953"
            ],
            [
             0.7777777777777778,
             "#fb9f3a"
            ],
            [
             0.8888888888888888,
             "#fdca26"
            ],
            [
             1,
             "#f0f921"
            ]
           ]
          },
          "colorway": [
           "#636efa",
           "#EF553B",
           "#00cc96",
           "#ab63fa",
           "#FFA15A",
           "#19d3f3",
           "#FF6692",
           "#B6E880",
           "#FF97FF",
           "#FECB52"
          ],
          "font": {
           "color": "#2a3f5f"
          },
          "geo": {
           "bgcolor": "white",
           "lakecolor": "white",
           "landcolor": "#E5ECF6",
           "showlakes": true,
           "showland": true,
           "subunitcolor": "white"
          },
          "hoverlabel": {
           "align": "left"
          },
          "hovermode": "closest",
          "mapbox": {
           "style": "light"
          },
          "paper_bgcolor": "white",
          "plot_bgcolor": "#E5ECF6",
          "polar": {
           "angularaxis": {
            "gridcolor": "white",
            "linecolor": "white",
            "ticks": ""
           },
           "bgcolor": "#E5ECF6",
           "radialaxis": {
            "gridcolor": "white",
            "linecolor": "white",
            "ticks": ""
           }
          },
          "scene": {
           "xaxis": {
            "backgroundcolor": "#E5ECF6",
            "gridcolor": "white",
            "gridwidth": 2,
            "linecolor": "white",
            "showbackground": true,
            "ticks": "",
            "zerolinecolor": "white"
           },
           "yaxis": {
            "backgroundcolor": "#E5ECF6",
            "gridcolor": "white",
            "gridwidth": 2,
            "linecolor": "white",
            "showbackground": true,
            "ticks": "",
            "zerolinecolor": "white"
           },
           "zaxis": {
            "backgroundcolor": "#E5ECF6",
            "gridcolor": "white",
            "gridwidth": 2,
            "linecolor": "white",
            "showbackground": true,
            "ticks": "",
            "zerolinecolor": "white"
           }
          },
          "shapedefaults": {
           "line": {
            "color": "#2a3f5f"
           }
          },
          "ternary": {
           "aaxis": {
            "gridcolor": "white",
            "linecolor": "white",
            "ticks": ""
           },
           "baxis": {
            "gridcolor": "white",
            "linecolor": "white",
            "ticks": ""
           },
           "bgcolor": "#E5ECF6",
           "caxis": {
            "gridcolor": "white",
            "linecolor": "white",
            "ticks": ""
           }
          },
          "title": {
           "x": 0.05
          },
          "xaxis": {
           "automargin": true,
           "gridcolor": "white",
           "linecolor": "white",
           "ticks": "",
           "title": {
            "standoff": 15
           },
           "zerolinecolor": "white",
           "zerolinewidth": 2
          },
          "yaxis": {
           "automargin": true,
           "gridcolor": "white",
           "linecolor": "white",
           "ticks": "",
           "title": {
            "standoff": 15
           },
           "zerolinecolor": "white",
           "zerolinewidth": 2
          }
         }
        },
        "title": {
         "text": "Matriz de Confusión - MLP Classifier"
        },
        "xaxis": {
         "dtick": 1,
         "gridcolor": "rgb(0, 0, 0)",
         "side": "top",
         "ticks": ""
        },
        "yaxis": {
         "dtick": 1,
         "ticks": "",
         "ticksuffix": "  "
        }
       }
      }
     },
     "metadata": {},
     "output_type": "display_data"
    }
   ],
   "source": [
    "from sklearn.metrics import confusion_matrix\n",
    "import plotly.figure_factory as ff\n",
    "\n",
    "# Calcular matrices de confusión\n",
    "rf_cm = confusion_matrix(y_test.argmax(axis=1), rf_preds.argmax(axis=1))\n",
    "mlp_cm = confusion_matrix(y_test.argmax(axis=1), mlp_preds.argmax(axis=1))\n",
    "\n",
    "# Crear gráficos de matrices de confusión\n",
    "fig_rf = ff.create_annotated_heatmap(\n",
    "    z=rf_cm,\n",
    "    x=['Clase 0', 'Clase 1', 'Clase 2'],\n",
    "    y=['Clase 0', 'Clase 1', 'Clase 2'],\n",
    "    colorscale='Blues',\n",
    "    showscale=True\n",
    ")\n",
    "fig_rf.update_layout(title='Matriz de Confusión - Random Forest')\n",
    "fig_rf.show()\n",
    "\n",
    "fig_mlp = ff.create_annotated_heatmap(\n",
    "    z=mlp_cm,\n",
    "    x=['Clase 0', 'Clase 1', 'Clase 2'],\n",
    "    y=['Clase 0', 'Clase 1', 'Clase 2'],\n",
    "    colorscale='Greens',\n",
    "    showscale=True\n",
    ")\n",
    "fig_mlp.update_layout(title='Matriz de Confusión - MLP Classifier')\n",
    "fig_mlp.show()"
   ]
  }
 ],
 "metadata": {
  "kernelspec": {
   "display_name": ".venv (3.13.8)",
   "language": "python",
   "name": "python3"
  },
  "language_info": {
   "codemirror_mode": {
    "name": "ipython",
    "version": 3
   },
   "file_extension": ".py",
   "mimetype": "text/x-python",
   "name": "python",
   "nbconvert_exporter": "python",
   "pygments_lexer": "ipython3",
   "version": "3.13.8"
  }
 },
 "nbformat": 4,
 "nbformat_minor": 5
}
