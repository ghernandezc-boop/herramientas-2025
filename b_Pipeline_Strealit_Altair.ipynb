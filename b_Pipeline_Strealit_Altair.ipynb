{
 "cells": [
  {
   "cell_type": "markdown",
   "id": "8fe106b3",
   "metadata": {},
   "source": [
    "# 📊 Pipeline completo: Streamlit + Altair (Explicación para docencia)\n",
    "\n",
    "Este documento explica, paso a paso, el **pipeline** de una aplicación de **analítica interactiva** construida con **Streamlit** (front-end y lógica de app) y **Altair** (gráficos declarativos), usando un dataset sintético de ventas diarias. Está pensado para pegarlo en una celda Markdown de Jupyter/VS Code como **guía técnica de laboratorio**.\n",
    "\n",
    "---\n",
    "\n",
    "## 🎯 Objetivos de aprendizaje\n",
    "1. **Cargar, filtrar y enriquecer datos** en una app web ligera de Python.\n",
    "2. **Visualizar** métricas y tendencias con **Altair**, incluyendo **interacción y cross-filtering**.\n",
    "3. **Implementar buenas prácticas** de rendimiento y reproducibilidad (**caching**, estructura de proyecto).\n",
    "4. **Exportar** datos filtrados para su análisis externo.\n",
    "\n",
    "---\n",
    "\n",
    "## 🧱 Arquitectura del pipeline\n",
    "\n",
    "```text\n",
    "Usuario (navegador)\n",
    "     │\n",
    "     ▼\n",
    "Streamlit (app.py)\n",
    "  ├── Carga datos (pandas, cache)\n",
    "  ├── Controles UI (sidebar: fechas, categorías, regiones)\n",
    "  ├── KPIs (revenue, units, avg price)\n",
    "  ├── Gráficos Altair (línea + barras, con selección interactiva)\n",
    "  └── Tabla + Descarga CSV\n",
    "     │\n",
    "     ▼\n",
    "Dataset (sales_demo.csv)  ←  Generado sintéticamente (sin PII: sin datos personales identificables como nombres, correos, teléfonos o direcciones)\n",
    "```\n",
    "\n",
    "---\n",
    "## Arrancar la aplicacióm de la forma siguiente:\n",
    "sreamlit run streamlit_altair_app.py\n"
   ]
  }
 ],
 "metadata": {
  "language_info": {
   "name": "python"
  }
 },
 "nbformat": 4,
 "nbformat_minor": 5
}
